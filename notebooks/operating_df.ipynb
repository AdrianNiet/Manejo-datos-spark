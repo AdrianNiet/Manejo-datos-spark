{
 "cells": [
  {
   "cell_type": "code",
   "execution_count": 1,
   "metadata": {},
   "outputs": [],
   "source": [
    "#Para este proyecto, vamos a cojer datos de la app store y analizarlos, para ver cuales son las apps mas populares y en que categorias o generos pertenecen."
   ]
  },
  {
   "cell_type": "code",
   "execution_count": 2,
   "metadata": {},
   "outputs": [],
   "source": [
    "from pyspark.sql import SparkSession\n",
    "from pyspark.sql.functions import isnan, when, count, col, isnull, pow, sqrt, regexp_extract, regexp_replace, format_number, avg, round, lit, desc,countDistinct,collect_list, first\n",
    "from pyspark.ml.feature import Imputer\n",
    "from pyspark.sql.types import StructType\n",
    "import shutil\n",
    "import os\n",
    "import matplotlib.pyplot as plt"
   ]
  },
  {
   "cell_type": "code",
   "execution_count": 3,
   "metadata": {},
   "outputs": [],
   "source": [
    "spark = SparkSession.builder.appName(\"practica\").getOrCreate()\n",
    "spark.conf.set(\"spark.hadoop.mapreduce.fileoutputcommitter.marksuccessfuljobs\", \"false\")"
   ]
  },
  {
   "cell_type": "code",
   "execution_count": 4,
   "metadata": {},
   "outputs": [],
   "source": [
    "df = spark.read.csv(\"../raw/googleplaystore.csv\", header=True, inferSchema=True)"
   ]
  },
  {
   "cell_type": "code",
   "execution_count": 5,
   "metadata": {},
   "outputs": [],
   "source": [
    "#Para esta ocasion vamos a cojer un csv de apps y vamos a analyzarlo de diferentes maneras y aplicando graficas."
   ]
  },
  {
   "cell_type": "code",
   "execution_count": 6,
   "metadata": {},
   "outputs": [
    {
     "data": {
      "text/plain": [
       "10841"
      ]
     },
     "execution_count": 6,
     "metadata": {},
     "output_type": "execute_result"
    }
   ],
   "source": [
    "df.count()"
   ]
  },
  {
   "cell_type": "code",
   "execution_count": 7,
   "metadata": {},
   "outputs": [
    {
     "name": "stdout",
     "output_type": "stream",
     "text": [
      "+---+--------------------+--------------+------+-------+----+-----------+----+-----+--------------+--------------------+------------+------------------+------------+\n",
      "|_c0|                 App|      Category|Rating|Reviews|Size|   Installs|Type|Price|Content Rating|              Genres|Last Updated|       Current Ver| Android Ver|\n",
      "+---+--------------------+--------------+------+-------+----+-----------+----+-----+--------------+--------------------+------------+------------------+------------+\n",
      "|  0|Photo Editor & Ca...|ART_AND_DESIGN|   4.1|    159| 19M|    10,000+|Free|    0|      Everyone|        Art & Design|    7-Jan-18|             1.0.0|4.0.3 and up|\n",
      "|  1| Coloring book moana|ART_AND_DESIGN|   3.9|    967| 14M|   500,000+|Free|    0|      Everyone|Art & Design;Pret...|   15-Jan-18|             2.0.0|4.0.3 and up|\n",
      "|  2|U Launcher Lite –...|ART_AND_DESIGN|   4.7|  87510|8.7M| 5,000,000+|Free|    0|      Everyone|        Art & Design|    1-Aug-18|             1.2.4|4.0.3 and up|\n",
      "|  3|Sketch - Draw & P...|ART_AND_DESIGN|   4.5| 215644| 25M|50,000,000+|Free|    0|          Teen|        Art & Design|    8-Jun-18|Varies with device|  4.2 and up|\n",
      "|  4|Pixel Draw - Numb...|ART_AND_DESIGN|   4.3|    967|2.8M|   100,000+|Free|    0|      Everyone|Art & Design;Crea...|   20-Jun-18|               1.1|  4.4 and up|\n",
      "|  5|Paper flowers ins...|ART_AND_DESIGN|   4.4|    167|5.6M|    50,000+|Free|    0|      Everyone|        Art & Design|   26-Mar-17|                 1|  2.3 and up|\n",
      "|  6|Smoke Effect Phot...|ART_AND_DESIGN|   3.8|    178| 19M|    50,000+|Free|    0|      Everyone|        Art & Design|   26-Apr-18|               1.1|4.0.3 and up|\n",
      "|  7|    Infinite Painter|ART_AND_DESIGN|   4.1|  36815| 29M| 1,000,000+|Free|    0|      Everyone|        Art & Design|   14-Jun-18|          6.1.61.1|  4.2 and up|\n",
      "|  8|Garden Coloring Book|ART_AND_DESIGN|   4.4|  13791| 33M| 1,000,000+|Free|    0|      Everyone|        Art & Design|   20-Sep-17|             2.9.2|  3.0 and up|\n",
      "|  9|Kids Paint Free -...|ART_AND_DESIGN|   4.7|    121|3.1M|    10,000+|Free|    0|      Everyone|Art & Design;Crea...|    3-Jul-18|               2.8|4.0.3 and up|\n",
      "| 10|Text on Photo - F...|ART_AND_DESIGN|   4.4|  13880| 28M| 1,000,000+|Free|    0|      Everyone|        Art & Design|   27-Oct-17|             1.0.4|  4.1 and up|\n",
      "| 11|Name Art Photo Ed...|ART_AND_DESIGN|   4.4|   8788| 12M| 1,000,000+|Free|    0|      Everyone|        Art & Design|   31-Jul-18|            1.0.15|  4.0 and up|\n",
      "| 12|Tattoo Name On My...|ART_AND_DESIGN|   4.2|  44829| 20M|10,000,000+|Free|    0|          Teen|        Art & Design|    2-Apr-18|               3.8|  4.1 and up|\n",
      "| 13|Mandala Coloring ...|ART_AND_DESIGN|   4.6|   4326| 21M|   100,000+|Free|    0|      Everyone|        Art & Design|   26-Jun-18|             1.0.4|  4.4 and up|\n",
      "| 14|3D Color Pixel by...|ART_AND_DESIGN|   4.4|   1518| 37M|   100,000+|Free|    0|      Everyone|        Art & Design|    3-Aug-18|             1.2.3|  2.3 and up|\n",
      "| 15|Learn To Draw Kaw...|ART_AND_DESIGN|   3.2|     55|2.7M|     5,000+|Free|    0|      Everyone|        Art & Design|    6-Jun-18|              NULL|  4.2 and up|\n",
      "| 16|Photo Designer - ...|ART_AND_DESIGN|   4.7|   3632|5.5M|   500,000+|Free|    0|      Everyone|        Art & Design|   31-Jul-18|               3.1|  4.1 and up|\n",
      "| 17|350 Diy Room Deco...|ART_AND_DESIGN|   4.5|     27| 17M|    10,000+|Free|    0|      Everyone|        Art & Design|    7-Nov-17|                 1|  2.3 and up|\n",
      "| 18|FlipaClip - Carto...|ART_AND_DESIGN|   4.3| 194216| 39M| 5,000,000+|Free|    0|      Everyone|        Art & Design|    3-Aug-18|             2.2.5|4.0.3 and up|\n",
      "| 19|        ibis Paint X|ART_AND_DESIGN|   4.6| 224399| 31M|10,000,000+|Free|    0|      Everyone|        Art & Design|   30-Jul-18|             5.5.4|  4.1 and up|\n",
      "+---+--------------------+--------------+------+-------+----+-----------+----+-----+--------------+--------------------+------------+------------------+------------+\n",
      "only showing top 20 rows\n",
      "\n"
     ]
    }
   ],
   "source": [
    "df.show()"
   ]
  },
  {
   "cell_type": "code",
   "execution_count": 8,
   "metadata": {},
   "outputs": [
    {
     "name": "stdout",
     "output_type": "stream",
     "text": [
      "+-------------------+-------------+\n",
      "|           Category|avg(installs)|\n",
      "+-------------------+-------------+\n",
      "|             EVENTS|         NULL|\n",
      "|             COMICS|         NULL|\n",
      "|             SPORTS|         NULL|\n",
      "|            WEATHER|         NULL|\n",
      "|      VIDEO_PLAYERS|         NULL|\n",
      "|  AUTO_AND_VEHICLES|         NULL|\n",
      "|          PARENTING|         NULL|\n",
      "|      ENTERTAINMENT|         NULL|\n",
      "|    PERSONALIZATION|         NULL|\n",
      "| HEALTH_AND_FITNESS|         NULL|\n",
      "|   TRAVEL_AND_LOCAL|         NULL|\n",
      "|BOOKS_AND_REFERENCE|         NULL|\n",
      "|     FOOD_AND_DRINK|         NULL|\n",
      "|        PHOTOGRAPHY|         NULL|\n",
      "|           BUSINESS|         NULL|\n",
      "|             FAMILY|          0.0|\n",
      "|           SHOPPING|         NULL|\n",
      "|     HOUSE_AND_HOME|         NULL|\n",
      "|               GAME|         NULL|\n",
      "|               Face|          4.2|\n",
      "+-------------------+-------------+\n",
      "only showing top 20 rows\n",
      "\n"
     ]
    }
   ],
   "source": [
    "#tenemos la columna install en string, por eso nos da null\n",
    "df.groupBy(\"Category\").agg({'installs': 'mean'}).show()"
   ]
  },
  {
   "cell_type": "code",
   "execution_count": 9,
   "metadata": {},
   "outputs": [],
   "source": [
    "df = df.withColumn(\"installs\", regexp_replace(\"installs\", \"[+,]\", \"\"))"
   ]
  },
  {
   "cell_type": "code",
   "execution_count": 10,
   "metadata": {},
   "outputs": [
    {
     "name": "stdout",
     "output_type": "stream",
     "text": [
      "+--------+\n",
      "|Installs|\n",
      "+--------+\n",
      "|   10000|\n",
      "|  500000|\n",
      "| 5000000|\n",
      "|50000000|\n",
      "|  100000|\n",
      "|   50000|\n",
      "|   50000|\n",
      "| 1000000|\n",
      "| 1000000|\n",
      "|   10000|\n",
      "| 1000000|\n",
      "| 1000000|\n",
      "|10000000|\n",
      "|  100000|\n",
      "|  100000|\n",
      "|    5000|\n",
      "|  500000|\n",
      "|   10000|\n",
      "| 5000000|\n",
      "|10000000|\n",
      "+--------+\n",
      "only showing top 20 rows\n",
      "\n"
     ]
    }
   ],
   "source": [
    "df.select(\"Installs\").show()"
   ]
  },
  {
   "cell_type": "code",
   "execution_count": 11,
   "metadata": {},
   "outputs": [],
   "source": [
    "df = df.withColumn(\"installs\", df[\"installs\"].cast(\"int\"))"
   ]
  },
  {
   "cell_type": "code",
   "execution_count": 12,
   "metadata": {},
   "outputs": [
    {
     "data": {
      "text/plain": [
       "[('_c0', 'int'),\n",
       " ('App', 'string'),\n",
       " ('Category', 'string'),\n",
       " ('Rating', 'string'),\n",
       " ('Reviews', 'string'),\n",
       " ('Size', 'string'),\n",
       " ('installs', 'int'),\n",
       " ('Type', 'string'),\n",
       " ('Price', 'string'),\n",
       " ('Content Rating', 'string'),\n",
       " ('Genres', 'string'),\n",
       " ('Last Updated', 'string'),\n",
       " ('Current Ver', 'string'),\n",
       " ('Android Ver', 'string')]"
      ]
     },
     "execution_count": 12,
     "metadata": {},
     "output_type": "execute_result"
    }
   ],
   "source": [
    "df.dtypes"
   ]
  },
  {
   "cell_type": "code",
   "execution_count": 13,
   "metadata": {},
   "outputs": [
    {
     "name": "stdout",
     "output_type": "stream",
     "text": [
      "+-------------------+--------------+\n",
      "|           category| mean_installs|\n",
      "+-------------------+--------------+\n",
      "|             EVENTS|    249580.641|\n",
      "|             COMICS|    934769.167|\n",
      "|             SPORTS|   4560350.255|\n",
      "|            WEATHER|   5196347.805|\n",
      "|      VIDEO_PLAYERS|3.5554301257E7|\n",
      "|  AUTO_AND_VEHICLES|    625061.306|\n",
      "|          PARENTING|    525351.833|\n",
      "|      ENTERTAINMENT|1.9256107383E7|\n",
      "|    PERSONALIZATION|   5932384.648|\n",
      "| HEALTH_AND_FITNESS|   4653154.447|\n",
      "|   TRAVEL_AND_LOCAL|2.6623593589E7|\n",
      "|BOOKS_AND_REFERENCE|   8318050.113|\n",
      "|     FOOD_AND_DRINK|   2156683.079|\n",
      "|        PHOTOGRAPHY|3.0114172104E7|\n",
      "|           BUSINESS|   2178075.793|\n",
      "|             FAMILY|   5201959.181|\n",
      "|           SHOPPING|1.2491726096E7|\n",
      "|     HOUSE_AND_HOME|   1917187.057|\n",
      "|               GAME|3.0669601761E7|\n",
      "|               Face|           4.0|\n",
      "+-------------------+--------------+\n",
      "only showing top 20 rows\n",
      "\n"
     ]
    }
   ],
   "source": [
    "df.groupBy(\"category\").agg(round(avg(\"installs\"), 3).alias(\"mean_installs\")).show()"
   ]
  },
  {
   "cell_type": "code",
   "execution_count": 14,
   "metadata": {},
   "outputs": [],
   "source": [
    "#vamos con algo mas avanzado, vamos a cojer solo las 5 mejores."
   ]
  },
  {
   "cell_type": "code",
   "execution_count": 15,
   "metadata": {},
   "outputs": [],
   "source": [
    "medias = df.groupBy(\"category\").agg(round(avg(\"installs\"), 3).alias(\"mean_installs\"))"
   ]
  },
  {
   "cell_type": "code",
   "execution_count": 16,
   "metadata": {},
   "outputs": [],
   "source": [
    "medias_install = medias.orderBy(col(\"mean_installs\").desc())"
   ]
  },
  {
   "cell_type": "code",
   "execution_count": 17,
   "metadata": {},
   "outputs": [
    {
     "name": "stdout",
     "output_type": "stream",
     "text": [
      "+-------------+--------------+\n",
      "|     category| mean_installs|\n",
      "+-------------+--------------+\n",
      "|COMMUNICATION|8.4359886953E7|\n",
      "|       SOCIAL|4.7694467464E7|\n",
      "|VIDEO_PLAYERS|3.5554301257E7|\n",
      "| PRODUCTIVITY|3.3434177757E7|\n",
      "|         GAME|3.0669601761E7|\n",
      "+-------------+--------------+\n",
      "\n"
     ]
    }
   ],
   "source": [
    "medias_install.limit(5).show()"
   ]
  },
  {
   "cell_type": "code",
   "execution_count": 18,
   "metadata": {},
   "outputs": [],
   "source": [
    "#Productivity puede estar relacionado con el mismo trabajo o control sobre uno mismo, social pueden ser redes sociales.\n",
    "#En muchas ocasiones las redes sociales estan relacionadas con el ocio."
   ]
  },
  {
   "cell_type": "code",
   "execution_count": 19,
   "metadata": {},
   "outputs": [
    {
     "name": "stdout",
     "output_type": "stream",
     "text": [
      "+------------------+--------------+\n",
      "|          category| mean_installs|\n",
      "+------------------+--------------+\n",
      "|            EVENTS|    249580.641|\n",
      "|            COMICS|    934769.167|\n",
      "|            SPORTS|   4560350.255|\n",
      "|           WEATHER|   5196347.805|\n",
      "|     VIDEO_PLAYERS|3.5554301257E7|\n",
      "| AUTO_AND_VEHICLES|    625061.306|\n",
      "|         PARENTING|    525351.833|\n",
      "|     ENTERTAINMENT|1.9256107383E7|\n",
      "|   PERSONALIZATION|   5932384.648|\n",
      "|HEALTH_AND_FITNESS|   4653154.447|\n",
      "+------------------+--------------+\n",
      "\n"
     ]
    }
   ],
   "source": [
    "medias.limit(10).show()\n",
    "\n",
    "#Imagino whatsapp y otras como telegram son comunicacion, tiene sentido.\n",
    "#vamos a seguir explorando la dataframe."
   ]
  },
  {
   "cell_type": "code",
   "execution_count": 20,
   "metadata": {},
   "outputs": [
    {
     "name": "stdout",
     "output_type": "stream",
     "text": [
      "+---+--------------------+--------------+------+-------+----+--------+----+-----+--------------+--------------------+------------+------------------+------------+\n",
      "|_c0|                 App|      Category|Rating|Reviews|Size|installs|Type|Price|Content Rating|              Genres|Last Updated|       Current Ver| Android Ver|\n",
      "+---+--------------------+--------------+------+-------+----+--------+----+-----+--------------+--------------------+------------+------------------+------------+\n",
      "|  0|Photo Editor & Ca...|ART_AND_DESIGN|   4.1|    159| 19M|   10000|Free|    0|      Everyone|        Art & Design|    7-Jan-18|             1.0.0|4.0.3 and up|\n",
      "|  1| Coloring book moana|ART_AND_DESIGN|   3.9|    967| 14M|  500000|Free|    0|      Everyone|Art & Design;Pret...|   15-Jan-18|             2.0.0|4.0.3 and up|\n",
      "|  2|U Launcher Lite –...|ART_AND_DESIGN|   4.7|  87510|8.7M| 5000000|Free|    0|      Everyone|        Art & Design|    1-Aug-18|             1.2.4|4.0.3 and up|\n",
      "|  3|Sketch - Draw & P...|ART_AND_DESIGN|   4.5| 215644| 25M|50000000|Free|    0|          Teen|        Art & Design|    8-Jun-18|Varies with device|  4.2 and up|\n",
      "|  4|Pixel Draw - Numb...|ART_AND_DESIGN|   4.3|    967|2.8M|  100000|Free|    0|      Everyone|Art & Design;Crea...|   20-Jun-18|               1.1|  4.4 and up|\n",
      "|  5|Paper flowers ins...|ART_AND_DESIGN|   4.4|    167|5.6M|   50000|Free|    0|      Everyone|        Art & Design|   26-Mar-17|                 1|  2.3 and up|\n",
      "|  6|Smoke Effect Phot...|ART_AND_DESIGN|   3.8|    178| 19M|   50000|Free|    0|      Everyone|        Art & Design|   26-Apr-18|               1.1|4.0.3 and up|\n",
      "|  7|    Infinite Painter|ART_AND_DESIGN|   4.1|  36815| 29M| 1000000|Free|    0|      Everyone|        Art & Design|   14-Jun-18|          6.1.61.1|  4.2 and up|\n",
      "|  8|Garden Coloring Book|ART_AND_DESIGN|   4.4|  13791| 33M| 1000000|Free|    0|      Everyone|        Art & Design|   20-Sep-17|             2.9.2|  3.0 and up|\n",
      "|  9|Kids Paint Free -...|ART_AND_DESIGN|   4.7|    121|3.1M|   10000|Free|    0|      Everyone|Art & Design;Crea...|    3-Jul-18|               2.8|4.0.3 and up|\n",
      "| 10|Text on Photo - F...|ART_AND_DESIGN|   4.4|  13880| 28M| 1000000|Free|    0|      Everyone|        Art & Design|   27-Oct-17|             1.0.4|  4.1 and up|\n",
      "| 11|Name Art Photo Ed...|ART_AND_DESIGN|   4.4|   8788| 12M| 1000000|Free|    0|      Everyone|        Art & Design|   31-Jul-18|            1.0.15|  4.0 and up|\n",
      "| 12|Tattoo Name On My...|ART_AND_DESIGN|   4.2|  44829| 20M|10000000|Free|    0|          Teen|        Art & Design|    2-Apr-18|               3.8|  4.1 and up|\n",
      "| 13|Mandala Coloring ...|ART_AND_DESIGN|   4.6|   4326| 21M|  100000|Free|    0|      Everyone|        Art & Design|   26-Jun-18|             1.0.4|  4.4 and up|\n",
      "| 14|3D Color Pixel by...|ART_AND_DESIGN|   4.4|   1518| 37M|  100000|Free|    0|      Everyone|        Art & Design|    3-Aug-18|             1.2.3|  2.3 and up|\n",
      "| 15|Learn To Draw Kaw...|ART_AND_DESIGN|   3.2|     55|2.7M|    5000|Free|    0|      Everyone|        Art & Design|    6-Jun-18|              NULL|  4.2 and up|\n",
      "| 16|Photo Designer - ...|ART_AND_DESIGN|   4.7|   3632|5.5M|  500000|Free|    0|      Everyone|        Art & Design|   31-Jul-18|               3.1|  4.1 and up|\n",
      "| 17|350 Diy Room Deco...|ART_AND_DESIGN|   4.5|     27| 17M|   10000|Free|    0|      Everyone|        Art & Design|    7-Nov-17|                 1|  2.3 and up|\n",
      "| 18|FlipaClip - Carto...|ART_AND_DESIGN|   4.3| 194216| 39M| 5000000|Free|    0|      Everyone|        Art & Design|    3-Aug-18|             2.2.5|4.0.3 and up|\n",
      "| 19|        ibis Paint X|ART_AND_DESIGN|   4.6| 224399| 31M|10000000|Free|    0|      Everyone|        Art & Design|   30-Jul-18|             5.5.4|  4.1 and up|\n",
      "+---+--------------------+--------------+------+-------+----+--------+----+-----+--------------+--------------------+------------+------------------+------------+\n",
      "only showing top 20 rows\n",
      "\n"
     ]
    }
   ],
   "source": [
    "df.show()"
   ]
  },
  {
   "cell_type": "code",
   "execution_count": 21,
   "metadata": {},
   "outputs": [
    {
     "data": {
      "text/plain": [
       "[('_c0', 'int'),\n",
       " ('App', 'string'),\n",
       " ('Category', 'string'),\n",
       " ('Rating', 'string'),\n",
       " ('Reviews', 'string'),\n",
       " ('Size', 'string'),\n",
       " ('installs', 'int'),\n",
       " ('Type', 'string'),\n",
       " ('Price', 'string'),\n",
       " ('Content Rating', 'string'),\n",
       " ('Genres', 'string'),\n",
       " ('Last Updated', 'string'),\n",
       " ('Current Ver', 'string'),\n",
       " ('Android Ver', 'string')]"
      ]
     },
     "execution_count": 21,
     "metadata": {},
     "output_type": "execute_result"
    }
   ],
   "source": [
    "df.dtypes"
   ]
  },
  {
   "cell_type": "code",
   "execution_count": 22,
   "metadata": {},
   "outputs": [],
   "source": [
    "#vamos a mirar los rating de cada categoria.\n",
    "\n",
    "df = df.withColumn(\"Rating\", df[\"Rating\"].cast(\"float\"))"
   ]
  },
  {
   "cell_type": "code",
   "execution_count": 23,
   "metadata": {},
   "outputs": [
    {
     "data": {
      "text/plain": [
       "[('_c0', 'int'),\n",
       " ('App', 'string'),\n",
       " ('Category', 'string'),\n",
       " ('Rating', 'float'),\n",
       " ('Reviews', 'string'),\n",
       " ('Size', 'string'),\n",
       " ('installs', 'int'),\n",
       " ('Type', 'string'),\n",
       " ('Price', 'string'),\n",
       " ('Content Rating', 'string'),\n",
       " ('Genres', 'string'),\n",
       " ('Last Updated', 'string'),\n",
       " ('Current Ver', 'string'),\n",
       " ('Android Ver', 'string')]"
      ]
     },
     "execution_count": 23,
     "metadata": {},
     "output_type": "execute_result"
    }
   ],
   "source": [
    "df.dtypes"
   ]
  },
  {
   "cell_type": "code",
   "execution_count": 24,
   "metadata": {},
   "outputs": [
    {
     "name": "stdout",
     "output_type": "stream",
     "text": [
      "+-------------------+------+\n",
      "|           category|rating|\n",
      "+-------------------+------+\n",
      "|             EVENTS| 4.436|\n",
      "|             COMICS| 4.155|\n",
      "|             SPORTS| 4.224|\n",
      "|            WEATHER| 4.244|\n",
      "|      VIDEO_PLAYERS| 4.064|\n",
      "|  AUTO_AND_VEHICLES|  4.19|\n",
      "|          PARENTING|   4.3|\n",
      "|      ENTERTAINMENT| 4.126|\n",
      "|    PERSONALIZATION| 4.336|\n",
      "| HEALTH_AND_FITNESS| 4.277|\n",
      "|   TRAVEL_AND_LOCAL| 4.109|\n",
      "|BOOKS_AND_REFERENCE| 4.346|\n",
      "|     FOOD_AND_DRINK| 4.167|\n",
      "|        PHOTOGRAPHY| 4.192|\n",
      "|           BUSINESS| 4.121|\n",
      "|             FAMILY| 4.192|\n",
      "|           SHOPPING|  4.26|\n",
      "|     HOUSE_AND_HOME| 4.197|\n",
      "|               GAME| 4.286|\n",
      "|               Face|  NULL|\n",
      "+-------------------+------+\n",
      "only showing top 20 rows\n",
      "\n"
     ]
    }
   ],
   "source": [
    "df.groupBy(\"category\").agg(round(avg(\"rating\"), 3).alias(\"rating\")).show()"
   ]
  },
  {
   "cell_type": "code",
   "execution_count": 25,
   "metadata": {},
   "outputs": [],
   "source": [
    "#Parece que face tiene algo raro, vamos a verlo por si acaso."
   ]
  },
  {
   "cell_type": "code",
   "execution_count": 26,
   "metadata": {},
   "outputs": [],
   "source": [
    "df_testeo = spark.read.csv(\"../raw/googleplaystore.csv\", header=True, inferSchema=True)"
   ]
  },
  {
   "cell_type": "code",
   "execution_count": 27,
   "metadata": {},
   "outputs": [
    {
     "name": "stdout",
     "output_type": "stream",
     "text": [
      "+----+--------------------+--------+------+-------------+------------------+--------+----+-----+--------------+------+------------+-----------+----------------+\n",
      "| _c0|                 App|Category|Rating|      Reviews|              Size|Installs|Type|Price|Content Rating|Genres|Last Updated|Current Ver|     Android Ver|\n",
      "+----+--------------------+--------+------+-------------+------------------+--------+----+-----+--------------+------+------------+-----------+----------------+\n",
      "|6105|\"Women\"\"s Health ...|    Face|  Body|weight lose)\"|HEALTH_AND_FITNESS|     4.2|2509| 5.0M|    1,000,000+|  Free|           0| Mature 17+|Health & Fitness|\n",
      "+----+--------------------+--------+------+-------------+------------------+--------+----+-----+--------------+------+------------+-----------+----------------+\n",
      "\n"
     ]
    }
   ],
   "source": [
    "df_testeo.filter(df_testeo[\"category\"] == \"Face\").show()"
   ]
  },
  {
   "cell_type": "code",
   "execution_count": 28,
   "metadata": {},
   "outputs": [],
   "source": [
    "#ya veo, al parecer solo hay una, y tiene 4.2 installs? es algo raro, ademas su Rating es \"Body\"\n",
    "#parece que en rating pusieron Body y luego se fastidio la fila, es decir, no podemos usarla como tal.\n",
    "#la vamos a quitar."
   ]
  },
  {
   "cell_type": "code",
   "execution_count": 29,
   "metadata": {},
   "outputs": [],
   "source": [
    "df = df.filter(df[\"category\"] != \"Face\")"
   ]
  },
  {
   "cell_type": "code",
   "execution_count": 30,
   "metadata": {},
   "outputs": [
    {
     "name": "stdout",
     "output_type": "stream",
     "text": [
      "+-------------------+------+\n",
      "|           category|rating|\n",
      "+-------------------+------+\n",
      "|             EVENTS| 4.436|\n",
      "|             COMICS| 4.155|\n",
      "|             SPORTS| 4.224|\n",
      "|            WEATHER| 4.244|\n",
      "|      VIDEO_PLAYERS| 4.064|\n",
      "|  AUTO_AND_VEHICLES|  4.19|\n",
      "|          PARENTING|   4.3|\n",
      "|      ENTERTAINMENT| 4.126|\n",
      "|    PERSONALIZATION| 4.336|\n",
      "| HEALTH_AND_FITNESS| 4.277|\n",
      "|   TRAVEL_AND_LOCAL| 4.109|\n",
      "|BOOKS_AND_REFERENCE| 4.346|\n",
      "|     FOOD_AND_DRINK| 4.167|\n",
      "|        PHOTOGRAPHY| 4.192|\n",
      "|           BUSINESS| 4.121|\n",
      "|             FAMILY| 4.192|\n",
      "|           SHOPPING|  4.26|\n",
      "|     HOUSE_AND_HOME| 4.197|\n",
      "|               GAME| 4.286|\n",
      "|                1.9|  19.0|\n",
      "|          EDUCATION| 4.389|\n",
      "|       PRODUCTIVITY| 4.211|\n",
      "|              TOOLS| 4.047|\n",
      "|          LIFESTYLE| 4.095|\n",
      "| NEWS_AND_MAGAZINES| 4.132|\n",
      "|            MEDICAL| 4.189|\n",
      "|      COMMUNICATION| 4.159|\n",
      "|MAPS_AND_NAVIGATION| 4.049|\n",
      "|             DATING| 3.971|\n",
      "|       traffic jams|  NULL|\n",
      "| LIBRARIES_AND_DEMO| 4.178|\n",
      "|             BEAUTY| 4.279|\n",
      "|             SOCIAL| 4.256|\n",
      "|            FINANCE| 4.132|\n",
      "|     ART_AND_DESIGN| 4.358|\n",
      "+-------------------+------+\n",
      "\n"
     ]
    }
   ],
   "source": [
    "df.groupBy(\"category\").agg(round(avg(\"rating\"), 3).alias(\"rating\")).show(100)"
   ]
  },
  {
   "cell_type": "code",
   "execution_count": 31,
   "metadata": {},
   "outputs": [],
   "source": [
    "#tambien estan 1.9 y traffic jams.\n",
    "#Vamos a mirarlas."
   ]
  },
  {
   "cell_type": "code",
   "execution_count": 32,
   "metadata": {},
   "outputs": [
    {
     "name": "stdout",
     "output_type": "stream",
     "text": [
      "+-----+--------------------+--------+------+-------+------+--------+----+--------+--------------+---------+------------+-----------+-----------+\n",
      "|  _c0|                 App|Category|Rating|Reviews|  Size|Installs|Type|   Price|Content Rating|   Genres|Last Updated|Current Ver|Android Ver|\n",
      "+-----+--------------------+--------+------+-------+------+--------+----+--------+--------------+---------+------------+-----------+-----------+\n",
      "|10472|Life Made WI-Fi T...|     1.9|    19|   3.0M|1,000+|    Free|   0|Everyone|          NULL|11-Feb-18|      1.0.19| 4.0 and up|       NULL|\n",
      "+-----+--------------------+--------+------+-------+------+--------+----+--------+--------------+---------+------------+-----------+-----------+\n",
      "\n"
     ]
    }
   ],
   "source": [
    "df_testeo.filter(df_testeo[\"category\"] == \"1.9\").show()\n",
    "#esta tambien la voy a quitar."
   ]
  },
  {
   "cell_type": "code",
   "execution_count": 33,
   "metadata": {},
   "outputs": [
    {
     "name": "stdout",
     "output_type": "stream",
     "text": [
      "+---+---+--------+------+-------+----+--------+----+-----+--------------+------+------------+-----------+-----------+\n",
      "|_c0|App|Category|Rating|Reviews|Size|Installs|Type|Price|Content Rating|Genres|Last Updated|Current Ver|Android Ver|\n",
      "+---+---+--------+------+-------+----+--------+----+-----+--------------+------+------------+-----------+-----------+\n",
      "+---+---+--------+------+-------+----+--------+----+-----+--------------+------+------------+-----------+-----------+\n",
      "\n"
     ]
    }
   ],
   "source": [
    "df_testeo.filter(df_testeo[\"category\"] == \"traffic_jams\").show()\n",
    "\n",
    "#Nada? probemos de otra forma."
   ]
  },
  {
   "cell_type": "code",
   "execution_count": 34,
   "metadata": {},
   "outputs": [
    {
     "name": "stdout",
     "output_type": "stream",
     "text": [
      "+----+--------------------+-------------+------+--------+-------------------+--------+------+------------------+--------------+------+------------+-----------+-----------------+\n",
      "| _c0|                 App|     Category|Rating| Reviews|               Size|installs|  Type|             Price|Content Rating|Genres|Last Updated|Current Ver|      Android Ver|\n",
      "+----+--------------------+-------------+------+--------+-------------------+--------+------+------------------+--------------+------+------------+-----------+-----------------+\n",
      "|3838|\"Yanosik: \"\"antyr...| traffic jams|  NULL| camera\"|MAPS_AND_NAVIGATION|       4|102248|Varies with device|    5,000,000+|  Free|           0|   Everyone|Maps & Navigation|\n",
      "+----+--------------------+-------------+------+--------+-------------------+--------+------+------------------+--------------+------+------------+-----------+-----------------+\n",
      "\n"
     ]
    }
   ],
   "source": [
    "df.filter(col(\"category\").contains(\"traffic\")).show()\n",
    "\n",
    "#ahi la tenemos, no parece ser relevante por lo que la voy a quitar."
   ]
  },
  {
   "cell_type": "code",
   "execution_count": 35,
   "metadata": {},
   "outputs": [],
   "source": [
    "df = df.filter(df[\"category\"] != \"1.9\")\n",
    "df = df.filter(~col(\"category\").contains(\"traffic\"))"
   ]
  },
  {
   "cell_type": "code",
   "execution_count": 36,
   "metadata": {},
   "outputs": [
    {
     "name": "stdout",
     "output_type": "stream",
     "text": [
      "+-------------------+------+\n",
      "|           category|rating|\n",
      "+-------------------+------+\n",
      "|             EVENTS| 4.436|\n",
      "|             COMICS| 4.155|\n",
      "|             SPORTS| 4.224|\n",
      "|            WEATHER| 4.244|\n",
      "|      VIDEO_PLAYERS| 4.064|\n",
      "|  AUTO_AND_VEHICLES|  4.19|\n",
      "|          PARENTING|   4.3|\n",
      "|      ENTERTAINMENT| 4.126|\n",
      "|    PERSONALIZATION| 4.336|\n",
      "| HEALTH_AND_FITNESS| 4.277|\n",
      "|   TRAVEL_AND_LOCAL| 4.109|\n",
      "|BOOKS_AND_REFERENCE| 4.346|\n",
      "|     FOOD_AND_DRINK| 4.167|\n",
      "|        PHOTOGRAPHY| 4.192|\n",
      "|           BUSINESS| 4.121|\n",
      "|             FAMILY| 4.192|\n",
      "|           SHOPPING|  4.26|\n",
      "|     HOUSE_AND_HOME| 4.197|\n",
      "|               GAME| 4.286|\n",
      "|          EDUCATION| 4.389|\n",
      "|       PRODUCTIVITY| 4.211|\n",
      "|              TOOLS| 4.047|\n",
      "|          LIFESTYLE| 4.095|\n",
      "| NEWS_AND_MAGAZINES| 4.132|\n",
      "|            MEDICAL| 4.189|\n",
      "|      COMMUNICATION| 4.159|\n",
      "|MAPS_AND_NAVIGATION| 4.049|\n",
      "|             DATING| 3.971|\n",
      "| LIBRARIES_AND_DEMO| 4.178|\n",
      "|             BEAUTY| 4.279|\n",
      "|             SOCIAL| 4.256|\n",
      "|            FINANCE| 4.132|\n",
      "|     ART_AND_DESIGN| 4.358|\n",
      "+-------------------+------+\n",
      "\n"
     ]
    }
   ],
   "source": [
    "#probemos de nuevo.\n",
    "\n",
    "df.groupBy(\"category\").agg(round(avg(\"rating\"), 3).alias(\"rating\")).show(100)"
   ]
  },
  {
   "cell_type": "code",
   "execution_count": 37,
   "metadata": {},
   "outputs": [
    {
     "name": "stdout",
     "output_type": "stream",
     "text": [
      "+-------------------+--------------+----------+\n",
      "|           Category|  avg_installs|avg_rating|\n",
      "+-------------------+--------------+----------+\n",
      "|             EVENTS|    249580.641|     4.436|\n",
      "|             COMICS|    934769.167|     4.155|\n",
      "|             SPORTS|   4560350.255|     4.224|\n",
      "|            WEATHER|   5196347.805|     4.244|\n",
      "|      VIDEO_PLAYERS|3.5554301257E7|     4.064|\n",
      "|  AUTO_AND_VEHICLES|    625061.306|      4.19|\n",
      "|          PARENTING|    525351.833|       4.3|\n",
      "|      ENTERTAINMENT|1.9256107383E7|     4.126|\n",
      "|    PERSONALIZATION|   5932384.648|     4.336|\n",
      "| HEALTH_AND_FITNESS|   4653154.447|     4.277|\n",
      "|   TRAVEL_AND_LOCAL|2.6623593589E7|     4.109|\n",
      "|BOOKS_AND_REFERENCE|   8318050.113|     4.346|\n",
      "|     FOOD_AND_DRINK|   2156683.079|     4.167|\n",
      "|        PHOTOGRAPHY|3.0114172104E7|     4.192|\n",
      "|           BUSINESS|   2178075.793|     4.121|\n",
      "|             FAMILY|   5201959.181|     4.192|\n",
      "|           SHOPPING|1.2491726096E7|      4.26|\n",
      "|     HOUSE_AND_HOME|   1917187.057|     4.197|\n",
      "|               GAME|3.0669601761E7|     4.286|\n",
      "|          EDUCATION|   5586230.769|     4.389|\n",
      "+-------------------+--------------+----------+\n",
      "only showing top 20 rows\n",
      "\n"
     ]
    }
   ],
   "source": [
    "#Vamos a ver ambas cosas ahora, tanto la media de rating como de descargas.\n",
    "df.groupBy(\"Category\").agg(round(avg(\"installs\"),3).alias(\"avg_installs\"), round(avg(\"Rating\"),3).alias(\"avg_rating\")).show()"
   ]
  },
  {
   "cell_type": "code",
   "execution_count": 38,
   "metadata": {},
   "outputs": [],
   "source": [
    "#vamos a representarlo con mathplotlib, por lo que veo no se puede hacer directamente desde spark, usaremos .toPandas.\n",
    "\n",
    "ambas_medias = df.groupBy(\"Category\").agg(round(avg(\"installs\"),3).alias(\"avg_installs\"), round(avg(\"Rating\"),3).alias(\"avg_rating\"))"
   ]
  },
  {
   "cell_type": "code",
   "execution_count": 39,
   "metadata": {},
   "outputs": [],
   "source": [
    "ambas_medias = ambas_medias.toPandas()"
   ]
  },
  {
   "cell_type": "code",
   "execution_count": 60,
   "metadata": {},
   "outputs": [
    {
     "data": {
      "image/png": "[encoded data removed]",
      "text/plain": [
       "<Figure size 640x480 with 1 Axes>"
      ]
     },
     "metadata": {},
     "output_type": "display_data"
    }
   ],
   "source": [
    "#por el momento veo que no se puede hacer desde spark\n",
    "plt.bar(ambas_medias[\"Category\"],ambas_medias[\"avg_installs\"])\n",
    "plt.title('Installs por categoria')\n",
    "plt.xlabel('Grupo')\n",
    "plt.ylabel('Valores')\n",
    "plt.show()"
   ]
  },
  {
   "cell_type": "code",
   "execution_count": 41,
   "metadata": {},
   "outputs": [
    {
     "data": {
      "image/png": "[encoded data removed]",
      "text/plain": [
       "<Figure size 640x480 with 1 Axes>"
      ]
     },
     "metadata": {},
     "output_type": "display_data"
    }
   ],
   "source": [
    "#mejor cogere solo los 5 primeros.\n",
    "\n",
    "plt.bar(ambas_medias[\"Category\"].head(5),ambas_medias[\"avg_installs\"].head(5))\n",
    "plt.title('Media de installs por Grupo')\n",
    "plt.xlabel('Grupo')\n",
    "plt.ylabel('installs')\n",
    "plt.show()"
   ]
  },
  {
   "cell_type": "code",
   "execution_count": 42,
   "metadata": {},
   "outputs": [
    {
     "data": {
      "image/png": "[encoded data removed]",
      "text/plain": [
       "<Figure size 640x480 with 1 Axes>"
      ]
     },
     "metadata": {},
     "output_type": "display_data"
    }
   ],
   "source": [
    "plt.bar(ambas_medias[\"Category\"].head(5),ambas_medias[\"avg_rating\"].head(5))\n",
    "plt.title('Media de rating por Grupo')\n",
    "plt.xlabel('Grupo')\n",
    "plt.ylabel('rating')\n",
    "plt.show()"
   ]
  },
  {
   "cell_type": "code",
   "execution_count": 43,
   "metadata": {},
   "outputs": [
    {
     "name": "stdout",
     "output_type": "stream",
     "text": [
      "+---+--------------------+--------------+------+-------+----+--------+----+-----+--------------+--------------------+------------+------------------+------------+\n",
      "|_c0|                 App|      Category|Rating|Reviews|Size|installs|Type|Price|Content Rating|              Genres|Last Updated|       Current Ver| Android Ver|\n",
      "+---+--------------------+--------------+------+-------+----+--------+----+-----+--------------+--------------------+------------+------------------+------------+\n",
      "|  0|Photo Editor & Ca...|ART_AND_DESIGN|   4.1|    159| 19M|   10000|Free|    0|      Everyone|        Art & Design|    7-Jan-18|             1.0.0|4.0.3 and up|\n",
      "|  1| Coloring book moana|ART_AND_DESIGN|   3.9|    967| 14M|  500000|Free|    0|      Everyone|Art & Design;Pret...|   15-Jan-18|             2.0.0|4.0.3 and up|\n",
      "|  2|U Launcher Lite –...|ART_AND_DESIGN|   4.7|  87510|8.7M| 5000000|Free|    0|      Everyone|        Art & Design|    1-Aug-18|             1.2.4|4.0.3 and up|\n",
      "|  3|Sketch - Draw & P...|ART_AND_DESIGN|   4.5| 215644| 25M|50000000|Free|    0|          Teen|        Art & Design|    8-Jun-18|Varies with device|  4.2 and up|\n",
      "|  4|Pixel Draw - Numb...|ART_AND_DESIGN|   4.3|    967|2.8M|  100000|Free|    0|      Everyone|Art & Design;Crea...|   20-Jun-18|               1.1|  4.4 and up|\n",
      "|  5|Paper flowers ins...|ART_AND_DESIGN|   4.4|    167|5.6M|   50000|Free|    0|      Everyone|        Art & Design|   26-Mar-17|                 1|  2.3 and up|\n",
      "|  6|Smoke Effect Phot...|ART_AND_DESIGN|   3.8|    178| 19M|   50000|Free|    0|      Everyone|        Art & Design|   26-Apr-18|               1.1|4.0.3 and up|\n",
      "|  7|    Infinite Painter|ART_AND_DESIGN|   4.1|  36815| 29M| 1000000|Free|    0|      Everyone|        Art & Design|   14-Jun-18|          6.1.61.1|  4.2 and up|\n",
      "|  8|Garden Coloring Book|ART_AND_DESIGN|   4.4|  13791| 33M| 1000000|Free|    0|      Everyone|        Art & Design|   20-Sep-17|             2.9.2|  3.0 and up|\n",
      "|  9|Kids Paint Free -...|ART_AND_DESIGN|   4.7|    121|3.1M|   10000|Free|    0|      Everyone|Art & Design;Crea...|    3-Jul-18|               2.8|4.0.3 and up|\n",
      "| 10|Text on Photo - F...|ART_AND_DESIGN|   4.4|  13880| 28M| 1000000|Free|    0|      Everyone|        Art & Design|   27-Oct-17|             1.0.4|  4.1 and up|\n",
      "| 11|Name Art Photo Ed...|ART_AND_DESIGN|   4.4|   8788| 12M| 1000000|Free|    0|      Everyone|        Art & Design|   31-Jul-18|            1.0.15|  4.0 and up|\n",
      "| 12|Tattoo Name On My...|ART_AND_DESIGN|   4.2|  44829| 20M|10000000|Free|    0|          Teen|        Art & Design|    2-Apr-18|               3.8|  4.1 and up|\n",
      "| 13|Mandala Coloring ...|ART_AND_DESIGN|   4.6|   4326| 21M|  100000|Free|    0|      Everyone|        Art & Design|   26-Jun-18|             1.0.4|  4.4 and up|\n",
      "| 14|3D Color Pixel by...|ART_AND_DESIGN|   4.4|   1518| 37M|  100000|Free|    0|      Everyone|        Art & Design|    3-Aug-18|             1.2.3|  2.3 and up|\n",
      "| 15|Learn To Draw Kaw...|ART_AND_DESIGN|   3.2|     55|2.7M|    5000|Free|    0|      Everyone|        Art & Design|    6-Jun-18|              NULL|  4.2 and up|\n",
      "| 16|Photo Designer - ...|ART_AND_DESIGN|   4.7|   3632|5.5M|  500000|Free|    0|      Everyone|        Art & Design|   31-Jul-18|               3.1|  4.1 and up|\n",
      "| 17|350 Diy Room Deco...|ART_AND_DESIGN|   4.5|     27| 17M|   10000|Free|    0|      Everyone|        Art & Design|    7-Nov-17|                 1|  2.3 and up|\n",
      "| 18|FlipaClip - Carto...|ART_AND_DESIGN|   4.3| 194216| 39M| 5000000|Free|    0|      Everyone|        Art & Design|    3-Aug-18|             2.2.5|4.0.3 and up|\n",
      "| 19|        ibis Paint X|ART_AND_DESIGN|   4.6| 224399| 31M|10000000|Free|    0|      Everyone|        Art & Design|   30-Jul-18|             5.5.4|  4.1 and up|\n",
      "+---+--------------------+--------------+------+-------+----+--------+----+-----+--------------+--------------------+------------+------------------+------------+\n",
      "only showing top 20 rows\n",
      "\n"
     ]
    }
   ],
   "source": [
    "df.show()"
   ]
  },
  {
   "cell_type": "code",
   "execution_count": 44,
   "metadata": {},
   "outputs": [],
   "source": [
    "\"\"\"unique_categories_df = df.groupBy(\"category\").count()\n",
    "\n",
    "# Para cada categoría, obtener los distintos tipos de \"content rating\"\n",
    "category_content_rating_df = df.groupBy(\"category\", \"content rating\").count()\n",
    "\n",
    "# Calcular las medias de \"Installs\" y \"Rating\" para cada combinación de \"category\" y \"content rating\"\n",
    "ratings_installs_avg_df = df.groupBy(\"category\", \"content rating\").agg(avg(\"Installs\").alias(\"avg_installs\"), avg(\"Rating\").alias(\"avg_rating\"))\n",
    "\n",
    "# Mostrar los resultados\n",
    "unique_categories_df.show()\n",
    "category_content_rating_df.show()\n",
    "ratings_installs_avg_df.show()\"\"\";"
   ]
  },
  {
   "cell_type": "code",
   "execution_count": 45,
   "metadata": {},
   "outputs": [],
   "source": [
    "#vamos a hacer algo mas avanzado, por el momento, cogere todos los tipos de category y los guardare en una lista."
   ]
  },
  {
   "cell_type": "code",
   "execution_count": 46,
   "metadata": {},
   "outputs": [],
   "source": [
    "unicos = df.select(\"Category\").distinct().collect()"
   ]
  },
  {
   "cell_type": "code",
   "execution_count": 47,
   "metadata": {},
   "outputs": [
    {
     "data": {
      "text/plain": [
       "'EVENTS'"
      ]
     },
     "execution_count": 47,
     "metadata": {},
     "output_type": "execute_result"
    }
   ],
   "source": [
    "unicos[0][0]"
   ]
  },
  {
   "cell_type": "code",
   "execution_count": 48,
   "metadata": {},
   "outputs": [],
   "source": [
    "for i,j in enumerate(unicos):\n",
    "    unicos[i] = unicos[i][0]"
   ]
  },
  {
   "cell_type": "code",
   "execution_count": 49,
   "metadata": {},
   "outputs": [
    {
     "data": {
      "text/plain": [
       "'EVENTS'"
      ]
     },
     "execution_count": 49,
     "metadata": {},
     "output_type": "execute_result"
    }
   ],
   "source": [
    "unicos[0]"
   ]
  },
  {
   "cell_type": "code",
   "execution_count": 50,
   "metadata": {},
   "outputs": [],
   "source": [
    "#ahora, vamos a coger cada elemento de la lista, y lo usaremos para crear una nueva DF.\n"
   ]
  },
  {
   "cell_type": "code",
   "execution_count": 51,
   "metadata": {},
   "outputs": [],
   "source": [
    "#vemos que ya funciona, aunque le falta un poco.\n",
    "\"\"\"for i in unicos:\n",
    "    filas = df.filter(df[\"category\"] == i)\n",
    "    grouped_df = filas.groupBy(\"content rating\").count()\n",
    "    media_installs_rating = filas.groupBy(\"content rating\").agg(round(avg(\"installs\"), 3).alias(\"avg_installs\"), round(avg(\"Rating\"), 3).alias(\"avg_rating\"))\n",
    "    grouped_df = grouped_df.join(media_installs_rating, on=\"content rating\")\n",
    "    grouped_df.show()\"\"\";\n"
   ]
  },
  {
   "cell_type": "code",
   "execution_count": 52,
   "metadata": {},
   "outputs": [],
   "source": [
    "#primero creamos lo necesario para crear una dataframe vacia.\n",
    "\"\"\"for i in unicos:\n",
    "    filas = df.filter(df[\"category\"] == i)\n",
    "\n",
    "    grouped_df = filas.groupBy(\"content rating\").count()\n",
    "    media_installs_rating = filas.groupBy(\"content rating\").agg(round(avg(\"installs\"), 3).alias(\"avg_installs\"), round(avg(\"Rating\"), 3).alias(\"avg_rating\"))\n",
    "    grouped_df = grouped_df.join(media_installs_rating, on=\"content rating\")\n",
    "    grouped_df = grouped_df.withColumn(\"Category\", lit(i))\n",
    "    grouped_df = grouped_df.selectExpr(\"Category\", \"*\")\n",
    "    #aqui tenemos un problema, la columna \"Category\" aparece 2 veces, y yo la quiero solo a la izq.\n",
    "    #Cojo todas excepto la ultima y ya lo tenemos.\n",
    "    df_final = grouped_df.select(grouped_df.columns[:-1])\n",
    "    df_final.show()\"\"\";\n"
   ]
  },
  {
   "cell_type": "code",
   "execution_count": 54,
   "metadata": {},
   "outputs": [
    {
     "name": "stdout",
     "output_type": "stream",
     "text": [
      "+--------+--------------+-----+------------+----------+\n",
      "|Category|content rating|count|avg_installs|avg_rating|\n",
      "+--------+--------------+-----+------------+----------+\n",
      "|  EVENTS|          Teen|    8|   138388.75|     4.543|\n",
      "|  EVENTS|  Everyone 10+|    3|     33700.0|       4.5|\n",
      "|  EVENTS|      Everyone|   53|  278583.981|     4.411|\n",
      "+--------+--------------+-----+------------+----------+\n",
      "\n",
      "+--------+---------------+-----+------------+----------+\n",
      "|Category| content rating|count|avg_installs|avg_rating|\n",
      "+--------+---------------+-----+------------+----------+\n",
      "|  COMICS|           Teen|   22| 1808636.364|     4.032|\n",
      "|  COMICS|     Mature 17+|    7|    330000.0|     3.771|\n",
      "|  COMICS|   Everyone 10+|    3|  170016.667|      4.45|\n",
      "|  COMICS|       Everyone|   26|    479850.0|     4.344|\n",
      "|  COMICS|Adults only 18+|    2|    500000.0|       4.2|\n",
      "+--------+---------------+-----+------------+----------+\n",
      "\n",
      "+--------+---------------+-----+------------+----------+\n",
      "|Category| content rating|count|avg_installs|avg_rating|\n",
      "+--------+---------------+-----+------------+----------+\n",
      "|  SPORTS|           Teen|   16|   8910100.0|      4.14|\n",
      "|  SPORTS|     Mature 17+|    7| 3857142.857|     4.286|\n",
      "|  SPORTS|   Everyone 10+|   22| 6843681.818|     4.333|\n",
      "|  SPORTS|       Everyone|  338| 4230922.775|     4.217|\n",
      "|  SPORTS|Adults only 18+|    1|   1000000.0|       4.5|\n",
      "+--------+---------------+-----+------------+----------+\n",
      "\n",
      "+--------+--------------+-----+------------+----------+\n",
      "|Category|content rating|count|avg_installs|avg_rating|\n",
      "+--------+--------------+-----+------------+----------+\n",
      "| WEATHER|          Teen|    2|    300000.0|      4.45|\n",
      "| WEATHER|    Mature 17+|    1|   1000000.0|       4.7|\n",
      "| WEATHER|  Everyone 10+|    1|       1.0E7|       4.4|\n",
      "| WEATHER|      Everyone|   78| 5314109.231|      4.23|\n",
      "+--------+--------------+-----+------------+----------+\n",
      "\n",
      "+-------------+--------------+-----+---------------+----------+\n",
      "|     Category|content rating|count|   avg_installs|avg_rating|\n",
      "+-------------+--------------+-----+---------------+----------+\n",
      "|VIDEO_PLAYERS|          Teen|   24|1.45673166667E8|     4.088|\n",
      "|VIDEO_PLAYERS|    Mature 17+|    3|    3533333.333|      3.65|\n",
      "|VIDEO_PLAYERS|  Everyone 10+|    2|      5050000.0|      4.15|\n",
      "|VIDEO_PLAYERS|      Everyone|  146| 1.8528402192E7|     4.064|\n",
      "+-------------+--------------+-----+---------------+----------+\n",
      "\n",
      "+-----------------+--------------+-----+------------+----------+\n",
      "|         Category|content rating|count|avg_installs|avg_rating|\n",
      "+-----------------+--------------+-----+------------+----------+\n",
      "|AUTO_AND_VEHICLES|          Teen|    1|       1.0E7|       4.2|\n",
      "|AUTO_AND_VEHICLES|  Everyone 10+|    1|   1000000.0|       4.3|\n",
      "|AUTO_AND_VEHICLES|      Everyone|   83|  507592.904|     4.189|\n",
      "+-----------------+--------------+-----+------------+----------+\n",
      "\n",
      "+---------+--------------+-----+------------+----------+\n",
      "| Category|content rating|count|avg_installs|avg_rating|\n",
      "+---------+--------------+-----+------------+----------+\n",
      "|PARENTING|          Teen|    1|     50000.0|       4.7|\n",
      "|PARENTING|    Mature 17+|    1|    100000.0|       4.6|\n",
      "|PARENTING|      Everyone|   58|  540881.207|     4.285|\n",
      "+---------+--------------+-----+------------+----------+\n",
      "\n",
      "+-------------+--------------+-----+--------------+----------+\n",
      "|     Category|content rating|count|  avg_installs|avg_rating|\n",
      "+-------------+--------------+-----+--------------+----------+\n",
      "|ENTERTAINMENT|          Teen|   96|2.3635520833E7|       4.1|\n",
      "|ENTERTAINMENT|    Mature 17+|    9|     5900000.0|       4.2|\n",
      "|ENTERTAINMENT|  Everyone 10+|    5|     8200000.0|       4.1|\n",
      "|ENTERTAINMENT|      Everyone|   39|1.2975641026E7|     4.177|\n",
      "+-------------+--------------+-----+--------------+----------+\n",
      "\n",
      "+---------------+--------------+-----+--------------+----------+\n",
      "|       Category|content rating|count|  avg_installs|avg_rating|\n",
      "+---------------+--------------+-----+--------------+----------+\n",
      "|PERSONALIZATION|          Teen|   56|1.5012612964E7|     4.404|\n",
      "|PERSONALIZATION|    Mature 17+|    9|    191223.333|       4.5|\n",
      "|PERSONALIZATION|  Everyone 10+|    5|     2502000.0|      4.38|\n",
      "|PERSONALIZATION|      Everyone|  322|    4566948.59|     4.323|\n",
      "+---------------+--------------+-----+--------------+----------+\n",
      "\n",
      "+------------------+--------------+-----+------------+----------+\n",
      "|          Category|content rating|count|avg_installs|avg_rating|\n",
      "+------------------+--------------+-----+------------+----------+\n",
      "|HEALTH_AND_FITNESS|          Teen|   20|   1360040.0|     4.276|\n",
      "|HEALTH_AND_FITNESS|    Mature 17+|    6|    683500.0|     4.417|\n",
      "|HEALTH_AND_FITNESS|  Everyone 10+|    7|  292872.857|     3.983|\n",
      "|HEALTH_AND_FITNESS|      Everyone|  307| 5044692.515|     4.281|\n",
      "+------------------+--------------+-----+------------+----------+\n",
      "\n",
      "+----------------+--------------+-----+--------------+----------+\n",
      "|        Category|content rating|count|  avg_installs|avg_rating|\n",
      "+----------------+--------------+-----+--------------+----------+\n",
      "|TRAVEL_AND_LOCAL|          Teen|    6|   3600008.333|      4.06|\n",
      "|TRAVEL_AND_LOCAL|    Mature 17+|    1|         1.0E7|       4.6|\n",
      "|TRAVEL_AND_LOCAL|      Everyone|  251|2.7240187633E7|     4.108|\n",
      "+----------------+--------------+-----+--------------+----------+\n",
      "\n",
      "+-------------------+--------------+-----+--------------+----------+\n",
      "|           Category|content rating|count|  avg_installs|avg_rating|\n",
      "+-------------------+--------------+-----+--------------+----------+\n",
      "|BOOKS_AND_REFERENCE|          Teen|   21|7.8743571905E7|     4.305|\n",
      "|BOOKS_AND_REFERENCE|    Mature 17+|    3|   1833666.667|     4.167|\n",
      "|BOOKS_AND_REFERENCE|  Everyone 10+|    5|     4222000.0|      4.46|\n",
      "|BOOKS_AND_REFERENCE|      Everyone|  202|   1194275.079|     4.351|\n",
      "+-------------------+--------------+-----+--------------+----------+\n",
      "\n",
      "+--------------+--------------+-----+------------+----------+\n",
      "|      Category|content rating|count|avg_installs|avg_rating|\n",
      "+--------------+--------------+-----+------------+----------+\n",
      "|FOOD_AND_DRINK|          Teen|    8|  2137576.25|     4.414|\n",
      "|FOOD_AND_DRINK|  Everyone 10+|    2|     55000.0|       4.3|\n",
      "|FOOD_AND_DRINK|      Everyone|  117| 2193915.735|     4.147|\n",
      "+--------------+--------------+-----+------------+----------+\n",
      "\n",
      "+-----------+--------------+-----+--------------+----------+\n",
      "|   Category|content rating|count|  avg_installs|avg_rating|\n",
      "+-----------+--------------+-----+--------------+----------+\n",
      "|PHOTOGRAPHY|          Teen|   12|  2.22089175E7|     4.292|\n",
      "|PHOTOGRAPHY|    Mature 17+|    5|        4.42E7|      4.38|\n",
      "|PHOTOGRAPHY|      Everyone|  318|3.0191008318E7|     4.185|\n",
      "+-----------+--------------+-----+--------------+----------+\n",
      "\n",
      "+--------+--------------+-----+------------+----------+\n",
      "|Category|content rating|count|avg_installs|avg_rating|\n",
      "+--------+--------------+-----+------------+----------+\n",
      "|BUSINESS|          Teen|   13|    7917.692|       4.3|\n",
      "|BUSINESS|    Mature 17+|    1|         5.0|      NULL|\n",
      "|BUSINESS|  Everyone 10+|    1|       100.0|      NULL|\n",
      "|BUSINESS|      Everyone|  445| 2251262.539|     4.119|\n",
      "+--------+--------------+-----+------------+----------+\n",
      "\n",
      "+--------+--------------+-----+--------------+----------+\n",
      "|Category|content rating|count|  avg_installs|avg_rating|\n",
      "+--------+--------------+-----+--------------+----------+\n",
      "|  FAMILY|       Unrated|    1|         500.0|      NULL|\n",
      "|  FAMILY|          Teen|  261|   8296617.969|     4.157|\n",
      "|  FAMILY|    Mature 17+|   50|    1278600.64|     4.193|\n",
      "|  FAMILY|  Everyone 10+|  131|1.3564153244E7|     4.239|\n",
      "|  FAMILY|      Everyone| 1529|   4088954.616|     4.194|\n",
      "+--------+--------------+-----+--------------+----------+\n",
      "\n",
      "+--------+--------------+-----+--------------+----------+\n",
      "|Category|content rating|count|  avg_installs|avg_rating|\n",
      "+--------+--------------+-----+--------------+----------+\n",
      "|SHOPPING|          Teen|   49|3.8082657143E7|      4.34|\n",
      "|SHOPPING|    Mature 17+|    3|   5033333.333|     4.267|\n",
      "|SHOPPING|      Everyone|  208|   6570666.274|     4.239|\n",
      "+--------+--------------+-----+--------------+----------+\n",
      "\n",
      "+--------------+--------------+-----+------------+----------+\n",
      "|      Category|content rating|count|avg_installs|avg_rating|\n",
      "+--------------+--------------+-----+------------+----------+\n",
      "|HOUSE_AND_HOME|          Teen|    2|    255000.0|      4.65|\n",
      "|HOUSE_AND_HOME|      Everyone|   86|  1955842.57|     4.185|\n",
      "+--------------+--------------+-----+------------+----------+\n",
      "\n",
      "+--------+--------------+-----+--------------+----------+\n",
      "|Category|content rating|count|  avg_installs|avg_rating|\n",
      "+--------+--------------+-----+--------------+----------+\n",
      "|    GAME|          Teen|  331|1.1444146858E7|     4.273|\n",
      "|    GAME|    Mature 17+|   74|1.4386786622E7|     4.262|\n",
      "|    GAME|  Everyone 10+|  131|7.1983664504E7|     4.347|\n",
      "|    GAME|      Everyone|  608|3.4216331488E7|     4.283|\n",
      "+--------+--------------+-----+--------------+----------+\n",
      "\n",
      "+---------+--------------+-----+------------+----------+\n",
      "| Category|content rating|count|avg_installs|avg_rating|\n",
      "+---------+--------------+-----+------------+----------+\n",
      "|EDUCATION|          Teen|    1|   1000000.0|       4.8|\n",
      "|EDUCATION|    Mature 17+|    3|  683333.333|     4.167|\n",
      "|EDUCATION|  Everyone 10+|    8|   7750000.0|     4.488|\n",
      "|EDUCATION|      Everyone|  144| 5600013.889|     4.385|\n",
      "+---------+--------------+-----+------------+----------+\n",
      "\n",
      "+------------+--------------+-----+-------------+----------+\n",
      "|    Category|content rating|count| avg_installs|avg_rating|\n",
      "+------------+--------------+-----+-------------+----------+\n",
      "|PRODUCTIVITY|          Teen|    9|  1111347.222|      4.05|\n",
      "|PRODUCTIVITY|    Mature 17+|    1|       1000.0|       4.6|\n",
      "|PRODUCTIVITY|  Everyone 10+|    1|       5000.0|       3.6|\n",
      "|PRODUCTIVITY|      Everyone|  413|3.430044369E7|     4.213|\n",
      "+------------+--------------+-----+-------------+----------+\n",
      "\n",
      "+--------+--------------+-----+--------------+----------+\n",
      "|Category|content rating|count|  avg_installs|avg_rating|\n",
      "+--------+--------------+-----+--------------+----------+\n",
      "|   TOOLS|       Unrated|    1|       50000.0|       4.1|\n",
      "|   TOOLS|          Teen|    5|    1.200402E7|       4.5|\n",
      "|   TOOLS|    Mature 17+|    2|        2550.0|       3.7|\n",
      "|   TOOLS|      Everyone|  835|1.3643948162E7|     4.045|\n",
      "+--------+--------------+-----+--------------+----------+\n",
      "\n",
      "+---------+--------------+-----+--------------+----------+\n",
      "| Category|content rating|count|  avg_installs|avg_rating|\n",
      "+---------+--------------+-----+--------------+----------+\n",
      "|LIFESTYLE|          Teen|   23|    385992.217|     4.417|\n",
      "|LIFESTYLE|    Mature 17+|    9|1.2512888889E7|     4.256|\n",
      "|LIFESTYLE|  Everyone 10+|    5|     2040200.0|      3.84|\n",
      "|LIFESTYLE|      Everyone|  345|   1176662.951|     4.074|\n",
      "+---------+--------------+-----+--------------+----------+\n",
      "\n",
      "+------------------+--------------+-----+---------------+----------+\n",
      "|          Category|content rating|count|   avg_installs|avg_rating|\n",
      "+------------------+--------------+-----+---------------+----------+\n",
      "|NEWS_AND_MAGAZINES|          Teen|   34|1.21815003235E8|     4.216|\n",
      "|NEWS_AND_MAGAZINES|    Mature 17+|   14|1.10251072143E8|     4.308|\n",
      "|NEWS_AND_MAGAZINES|  Everyone 10+|   66|  2.581904697E7|      4.08|\n",
      "|NEWS_AND_MAGAZINES|      Everyone|  169|     633346.391|      4.12|\n",
      "+------------------+--------------+-----+---------------+----------+\n",
      "\n",
      "+--------+--------------+-----+------------+----------+\n",
      "|Category|content rating|count|avg_installs|avg_rating|\n",
      "+--------+--------------+-----+------------+----------+\n",
      "| MEDICAL|          Teen|    5|     12222.0|     4.533|\n",
      "| MEDICAL|    Mature 17+|    7|   15114.286|     4.467|\n",
      "| MEDICAL|  Everyone 10+|    9|   20234.444|     4.387|\n",
      "| MEDICAL|      Everyone|  442|  119702.301|     4.176|\n",
      "+--------+--------------+-----+------------+----------+\n",
      "\n",
      "+-------------+--------------+-----+--------------+----------+\n",
      "|     Category|content rating|count|  avg_installs|avg_rating|\n",
      "+-------------+--------------+-----+--------------+----------+\n",
      "|COMMUNICATION|          Teen|   32|6.6706770313E7|     4.321|\n",
      "|COMMUNICATION|    Mature 17+|   10|   3.8011001E7|     4.311|\n",
      "|COMMUNICATION|      Everyone|  345|8.7340723452E7|     4.141|\n",
      "+-------------+--------------+-----+--------------+----------+\n",
      "\n",
      "+-------------------+--------------+-----+------------+----------+\n",
      "|           Category|content rating|count|avg_installs|avg_rating|\n",
      "+-------------------+--------------+-----+------------+----------+\n",
      "|MAPS_AND_NAVIGATION|          Teen|    2|   2550000.0|       4.4|\n",
      "|MAPS_AND_NAVIGATION|    Mature 17+|    1|     10000.0|       2.7|\n",
      "|MAPS_AND_NAVIGATION|  Everyone 10+|    1|       100.0|      NULL|\n",
      "|MAPS_AND_NAVIGATION|      Everyone|  132| 5410392.348|     4.054|\n",
      "+-------------------+--------------+-----+------------+----------+\n",
      "\n",
      "+--------+--------------+-----+------------+----------+\n",
      "|Category|content rating|count|avg_installs|avg_rating|\n",
      "+--------+--------------+-----+------------+----------+\n",
      "|  DATING|          Teen|   12|    169242.5|       3.6|\n",
      "|  DATING|    Mature 17+|  201| 1294786.075|     3.976|\n",
      "|  DATING|      Everyone|   21|   96566.476|       4.1|\n",
      "+--------+--------------+-----+------------+----------+\n",
      "\n",
      "+------------------+--------------+-----+------------+----------+\n",
      "|          Category|content rating|count|avg_installs|avg_rating|\n",
      "+------------------+--------------+-----+------------+----------+\n",
      "|LIBRARIES_AND_DEMO|      Everyone|   85|  741128.353|     4.178|\n",
      "+------------------+--------------+-----+------------+----------+\n",
      "\n",
      "+--------+--------------+-----+------------+----------+\n",
      "|Category|content rating|count|avg_installs|avg_rating|\n",
      "+--------+--------------+-----+------------+----------+\n",
      "|  BEAUTY|          Teen|    3|   83333.333|       4.0|\n",
      "|  BEAUTY|    Mature 17+|    3|     40000.0|       4.5|\n",
      "|  BEAUTY|  Everyone 10+|    2|     55000.0|      NULL|\n",
      "|  BEAUTY|      Everyone|   45|  593712.222|     4.287|\n",
      "+--------+--------------+-----+------------+----------+\n",
      "\n",
      "+--------+--------------+-----+--------------+----------+\n",
      "|Category|content rating|count|  avg_installs|avg_rating|\n",
      "+--------+--------------+-----+--------------+----------+\n",
      "|  SOCIAL|          Teen|  125|9.3483696168E7|     4.302|\n",
      "|  SOCIAL|    Mature 17+|   67|2.6039119403E7|     4.123|\n",
      "|  SOCIAL|  Everyone 10+|    2|      505000.0|       4.1|\n",
      "|  SOCIAL|      Everyone|  101|   6324503.772|     4.305|\n",
      "+--------+--------------+-----+--------------+----------+\n",
      "\n",
      "+--------+--------------+-----+------------+----------+\n",
      "|Category|content rating|count|avg_installs|avg_rating|\n",
      "+--------+--------------+-----+------------+----------+\n",
      "| FINANCE|          Teen|    5|    222400.0|     4.075|\n",
      "| FINANCE|      Everyone|  361| 2425309.512|     4.133|\n",
      "+--------+--------------+-----+------------+----------+\n",
      "\n",
      "+--------------+--------------+-----+--------------+----------+\n",
      "|      Category|content rating|count|  avg_installs|avg_rating|\n",
      "+--------------+--------------+-----+--------------+----------+\n",
      "|ART_AND_DESIGN|          Teen|    3|2.0003333333E7|     4.467|\n",
      "|ART_AND_DESIGN|  Everyone 10+|    1|      500000.0|       4.7|\n",
      "|ART_AND_DESIGN|      Everyone|   61|   1046362.295|     4.347|\n",
      "+--------------+--------------+-----+--------------+----------+\n",
      "\n"
     ]
    }
   ],
   "source": [
    "#¿Que podemos hacer con todas esas df?\n",
    "#Pues las vamos a guardar todas y cada una en su carpeta como dios manda.\n",
    "\n",
    "#primero creamos lo necesario para crear una dataframe vacia.\n",
    "for i in unicos:\n",
    "    filas = df.filter(df[\"category\"] == i)\n",
    "\n",
    "    grouped_df = filas.groupBy(\"content rating\").count()\n",
    "    media_installs_rating = filas.groupBy(\"content rating\").agg(round(avg(\"installs\"), 3).alias(\"avg_installs\"), round(avg(\"Rating\"), 3).alias(\"avg_rating\"))\n",
    "    grouped_df = grouped_df.join(media_installs_rating, on=\"content rating\")\n",
    "    grouped_df = grouped_df.withColumn(\"Category\", lit(i))\n",
    "    grouped_df = grouped_df.selectExpr(\"Category\", \"*\")\n",
    "    #aqui tenemos un problema, la columna \"Category\" aparece 2 veces, y yo la quiero solo a la izq.\n",
    "    #Cojo todas excepto la ultima y ya lo tenemos.\n",
    "    df_final = grouped_df.select(grouped_df.columns[:-1])\n",
    "    df_final.show()\n",
    "\n",
    "    df_final.write.option(\"mapreduce.fileoutputcommitter.marksuccessfuljobs\", \"false\").csv(f\"../data/processed/df_filtradas/{i}\", header=True, mode=\"overwrite\")\n",
    "\n",
    "    #Con esto miraremos la lista de archivos, el CSV estara el ultimo, le cambiamos el nombre a uno mas apropiado.\n",
    "    archivos = os.listdir(f\"../data/processed/df_filtradas/{i}\")\n",
    "\n",
    "    antes = os.path.join(f\"../data/processed/df_filtradas/{i}\", archivos[-1])\n",
    "    despues = os.path.join(f\"../data/processed/df_filtradas/{i}\", f\"{i}.csv\")\n",
    "\n",
    "\n",
    "    os.rename(antes, despues)"
   ]
  },
  {
   "cell_type": "code",
   "execution_count": 57,
   "metadata": {},
   "outputs": [
    {
     "name": "stdout",
     "output_type": "stream",
     "text": [
      "+--------+--------------+-----+------------+----------+-----------+---------------------+\n",
      "|Category|content rating|count|avg_installs|avg_rating|avg_reviews|version_mas_utilizada|\n",
      "+--------+--------------+-----+------------+----------+-----------+---------------------+\n",
      "|  EVENTS|          Teen|    8|   138388.75|     4.543|   2848.625|   Varies with device|\n",
      "|  EVENTS|  Everyone 10+|    3|     33700.0|       4.5|   1072.667|   Varies with device|\n",
      "|  EVENTS|      Everyone|   53|  278583.981|     4.411|   2547.377|                    1|\n",
      "+--------+--------------+-----+------------+----------+-----------+---------------------+\n",
      "\n",
      "+--------+---------------+-----+------------+----------+-----------+---------------------+\n",
      "|Category| content rating|count|avg_installs|avg_rating|avg_reviews|version_mas_utilizada|\n",
      "+--------+---------------+-----+------------+----------+-----------+---------------------+\n",
      "|  COMICS|           Teen|   22| 1808636.364|     4.032| 120813.727|   Varies with device|\n",
      "|  COMICS|     Mature 17+|    7|    330000.0|     3.771|   5109.857|                    1|\n",
      "|  COMICS|   Everyone 10+|    3|  170016.667|      4.45|   3330.667|                4.3.0|\n",
      "|  COMICS|       Everyone|   26|    479850.0|     4.344|  24933.923|                    1|\n",
      "|  COMICS|Adults only 18+|    2|    500000.0|       4.2|    15665.5|   Varies with device|\n",
      "+--------+---------------+-----+------------+----------+-----------+---------------------+\n",
      "\n",
      "+--------+---------------+-----+------------+----------+-----------+---------------------+\n",
      "|Category| content rating|count|avg_installs|avg_rating|avg_reviews|version_mas_utilizada|\n",
      "+--------+---------------+-----+------------+----------+-----------+---------------------+\n",
      "|  SPORTS|           Teen|   16|   8910100.0|      4.14| 278416.063|   Varies with device|\n",
      "|  SPORTS|     Mature 17+|    7| 3857142.857|     4.286| 205850.714|   Varies with device|\n",
      "|  SPORTS|   Everyone 10+|   22| 6843681.818|     4.333| 230376.273|   Varies with device|\n",
      "|  SPORTS|       Everyone|  338| 4230922.775|     4.217| 176971.189|   Varies with device|\n",
      "|  SPORTS|Adults only 18+|    1|   1000000.0|       4.5|    50017.0|             3.21.324|\n",
      "+--------+---------------+-----+------------+----------+-----------+---------------------+\n",
      "\n",
      "+--------+--------------+-----+------------+----------+-----------+---------------------+\n",
      "|Category|content rating|count|avg_installs|avg_rating|avg_reviews|version_mas_utilizada|\n",
      "+--------+--------------+-----+------------+----------+-----------+---------------------+\n",
      "| WEATHER|          Teen|    2|    300000.0|      4.45|     4413.5|          12.2.7.3671|\n",
      "| WEATHER|    Mature 17+|    1|   1000000.0|       4.7|    20001.0|   Varies with device|\n",
      "| WEATHER|  Everyone 10+|    1|       1.0E7|       4.4|   260137.0|                3.8.1|\n",
      "| WEATHER|      Everyone|   78| 5314109.231|      4.23| 183535.513|   Varies with device|\n",
      "+--------+--------------+-----+------------+----------+-----------+---------------------+\n",
      "\n",
      "+-------------+--------------+-----+---------------+----------+-----------+---------------------+\n",
      "|     Category|content rating|count|   avg_installs|avg_rating|avg_reviews|version_mas_utilizada|\n",
      "+-------------+--------------+-----+---------------+----------+-----------+---------------------+\n",
      "|VIDEO_PLAYERS|          Teen|   24|1.45673166667E8|     4.088|2910560.083|   Varies with device|\n",
      "|VIDEO_PLAYERS|    Mature 17+|    3|    3533333.333|      3.65|  33589.333|                4.0.7|\n",
      "|VIDEO_PLAYERS|  Everyone 10+|    2|      5050000.0|      4.15|    60208.5|                1.5.4|\n",
      "|VIDEO_PLAYERS|      Everyone|  146| 1.8528402192E7|     4.064| 276065.486|   Varies with device|\n",
      "+-------------+--------------+-----+---------------+----------+-----------+---------------------+\n",
      "\n",
      "+-----------------+--------------+-----+------------+----------+-----------+---------------------+\n",
      "|         Category|content rating|count|avg_installs|avg_rating|avg_reviews|version_mas_utilizada|\n",
      "+-----------------+--------------+-----+------------+----------+-----------+---------------------+\n",
      "|AUTO_AND_VEHICLES|          Teen|    1|       1.0E7|       4.2|   271920.0|   Varies with device|\n",
      "|AUTO_AND_VEHICLES|  Everyone 10+|    1|   1000000.0|       4.3|     3574.0|                  1.6|\n",
      "|AUTO_AND_VEHICLES|      Everyone|   83|  507592.904|     4.189|  10700.867|                    1|\n",
      "+-----------------+--------------+-----+------------+----------+-----------+---------------------+\n",
      "\n",
      "+---------+--------------+-----+------------+----------+-----------+---------------------+\n",
      "| Category|content rating|count|avg_installs|avg_rating|avg_reviews|version_mas_utilizada|\n",
      "+---------+--------------+-----+------------+----------+-----------+---------------------+\n",
      "|PARENTING|          Teen|    1|     50000.0|       4.7|      107.0|                1.4.0|\n",
      "|PARENTING|    Mature 17+|    1|    100000.0|       4.6|     1413.0|                2.9.9|\n",
      "|PARENTING|      Everyone|   58|  540881.207|     4.285|  16496.741|   Varies with device|\n",
      "+---------+--------------+-----+------------+----------+-----------+---------------------+\n",
      "\n",
      "+-------------+--------------+-----+--------------+----------+-----------+---------------------+\n",
      "|     Category|content rating|count|  avg_installs|avg_rating|avg_reviews|version_mas_utilizada|\n",
      "+-------------+--------------+-----+--------------+----------+-----------+---------------------+\n",
      "|ENTERTAINMENT|          Teen|   96|2.3635520833E7|       4.1|  502765.24|   Varies with device|\n",
      "|ENTERTAINMENT|    Mature 17+|    9|     5900000.0|       4.2|  89343.444|   Varies with device|\n",
      "|ENTERTAINMENT|  Everyone 10+|    5|     8200000.0|       4.1|   102072.6|                2.0.8|\n",
      "|ENTERTAINMENT|      Everyone|   39|1.2975641026E7|     4.177| 246108.641|   Varies with device|\n",
      "+-------------+--------------+-----+--------------+----------+-----------+---------------------+\n",
      "\n",
      "+---------------+--------------+-----+--------------+----------+-----------+---------------------+\n",
      "|       Category|content rating|count|  avg_installs|avg_rating|avg_reviews|version_mas_utilizada|\n",
      "+---------------+--------------+-----+--------------+----------+-----------+---------------------+\n",
      "|PERSONALIZATION|          Teen|   56|1.5012612964E7|     4.404| 799792.464|                    1|\n",
      "|PERSONALIZATION|    Mature 17+|    9|    191223.333|       4.5|   1799.667|                    1|\n",
      "|PERSONALIZATION|  Everyone 10+|    5|     2502000.0|      4.38|   184199.8|                  1.1|\n",
      "|PERSONALIZATION|      Everyone|  322|    4566948.59|     4.323| 135467.596|                    1|\n",
      "+---------------+--------------+-----+--------------+----------+-----------+---------------------+\n",
      "\n",
      "+------------------+--------------+-----+------------+----------+-----------+---------------------+\n",
      "|          Category|content rating|count|avg_installs|avg_rating|avg_reviews|version_mas_utilizada|\n",
      "+------------------+--------------+-----+------------+----------+-----------+---------------------+\n",
      "|HEALTH_AND_FITNESS|          Teen|   20|   1360040.0|     4.276|    32419.0|   Varies with device|\n",
      "|HEALTH_AND_FITNESS|    Mature 17+|    6|    683500.0|     4.417|    14804.5|                6.5.3|\n",
      "|HEALTH_AND_FITNESS|  Everyone 10+|    7|  292872.857|     3.983|   1800.286|                  1.9|\n",
      "|HEALTH_AND_FITNESS|      Everyone|  307| 5044692.515|     4.281|  120981.84|   Varies with device|\n",
      "+------------------+--------------+-----+------------+----------+-----------+---------------------+\n",
      "\n",
      "+----------------+--------------+-----+--------------+----------+-----------+---------------------+\n",
      "|        Category|content rating|count|  avg_installs|avg_rating|avg_reviews|version_mas_utilizada|\n",
      "+----------------+--------------+-----+--------------+----------+-----------+---------------------+\n",
      "|TRAVEL_AND_LOCAL|          Teen|    6|   3600008.333|      4.06| 148949.167|   Varies with device|\n",
      "|TRAVEL_AND_LOCAL|    Mature 17+|    1|         1.0E7|       4.6|   751551.0|          5.2.0 21127|\n",
      "|TRAVEL_AND_LOCAL|      Everyone|  251|2.7240187633E7|     4.108| 242919.016|   Varies with device|\n",
      "+----------------+--------------+-----+--------------+----------+-----------+---------------------+\n",
      "\n",
      "+-------------------+--------------+-----+--------------+----------+-----------+---------------------+\n",
      "|           Category|content rating|count|  avg_installs|avg_rating|avg_reviews|version_mas_utilizada|\n",
      "+-------------------+--------------+-----+--------------+----------+-----------+---------------------+\n",
      "|BOOKS_AND_REFERENCE|          Teen|   21|7.8743571905E7|     4.305| 607582.714|   Varies with device|\n",
      "|BOOKS_AND_REFERENCE|    Mature 17+|    3|   1833666.667|     4.167|    31169.0|   Varies with device|\n",
      "|BOOKS_AND_REFERENCE|  Everyone 10+|    5|     4222000.0|      4.46|   150867.6|                3.9.1|\n",
      "|BOOKS_AND_REFERENCE|      Everyone|  202|   1194275.079|     4.351|   41346.47|                    1|\n",
      "+-------------------+--------------+-----+--------------+----------+-----------+---------------------+\n",
      "\n",
      "+--------------+--------------+-----+------------+----------+-----------+---------------------+\n",
      "|      Category|content rating|count|avg_installs|avg_rating|avg_reviews|version_mas_utilizada|\n",
      "+--------------+--------------+-----+------------+----------+-----------+---------------------+\n",
      "|FOOD_AND_DRINK|          Teen|    8|  2137576.25|     4.414|  86607.625|   Varies with device|\n",
      "|FOOD_AND_DRINK|  Everyone 10+|    2|     55000.0|       4.3|      797.0|                    1|\n",
      "|FOOD_AND_DRINK|      Everyone|  117| 2193915.735|     4.147|  69990.385|   Varies with device|\n",
      "+--------------+--------------+-----+------------+----------+-----------+---------------------+\n",
      "\n",
      "+-----------+--------------+-----+--------------+----------+-----------+---------------------+\n",
      "|   Category|content rating|count|  avg_installs|avg_rating|avg_reviews|version_mas_utilizada|\n",
      "+-----------+--------------+-----+--------------+----------+-----------+---------------------+\n",
      "|PHOTOGRAPHY|          Teen|   12|  2.22089175E7|     4.292| 1351294.75|               9.40.3|\n",
      "|PHOTOGRAPHY|    Mature 17+|    5|        4.42E7|      4.38|   531514.6|                 4.21|\n",
      "|PHOTOGRAPHY|      Everyone|  318|3.0191008318E7|     4.185| 612086.604|   Varies with device|\n",
      "+-----------+--------------+-----+--------------+----------+-----------+---------------------+\n",
      "\n",
      "+--------+--------------+-----+------------+----------+-----------+---------------------+\n",
      "|Category|content rating|count|avg_installs|avg_rating|avg_reviews|version_mas_utilizada|\n",
      "+--------+--------------+-----+------------+----------+-----------+---------------------+\n",
      "|BUSINESS|          Teen|   13|    7917.692|       4.3|    308.615|                    1|\n",
      "|BUSINESS|    Mature 17+|    1|         5.0|      NULL|        0.0|                2.3.2|\n",
      "|BUSINESS|  Everyone 10+|    1|       100.0|      NULL|       30.0|       3.0.By.EliteMu|\n",
      "|BUSINESS|      Everyone|  445| 2251262.539|     4.119|  31349.461|   Varies with device|\n",
      "+--------+--------------+-----+------------+----------+-----------+---------------------+\n",
      "\n",
      "+--------+--------------+-----+--------------+----------+-----------+---------------------+\n",
      "|Category|content rating|count|  avg_installs|avg_rating|avg_reviews|version_mas_utilizada|\n",
      "+--------+--------------+-----+--------------+----------+-----------+---------------------+\n",
      "|  FAMILY|       Unrated|    1|         500.0|      NULL|        1.0|                  5.2|\n",
      "|  FAMILY|          Teen|  261|   8296617.969|     4.157| 207195.406|   Varies with device|\n",
      "|  FAMILY|    Mature 17+|   50|    1278600.64|     4.193|    33133.1|                    1|\n",
      "|  FAMILY|  Everyone 10+|  131|1.3564153244E7|     4.239|1217822.985|   Varies with device|\n",
      "|  FAMILY|      Everyone| 1529|   4088954.616|     4.194| 127506.123|                    1|\n",
      "+--------+--------------+-----+--------------+----------+-----------+---------------------+\n",
      "\n",
      "+--------+--------------+-----+--------------+----------+-----------+---------------------+\n",
      "|Category|content rating|count|  avg_installs|avg_rating|avg_reviews|version_mas_utilizada|\n",
      "+--------+--------------+-----+--------------+----------+-----------+---------------------+\n",
      "|SHOPPING|          Teen|   49|3.8082657143E7|      4.34|1276705.122|   Varies with device|\n",
      "|SHOPPING|    Mature 17+|    3|   5033333.333|     4.267| 179382.333|               4.0.13|\n",
      "|SHOPPING|      Everyone|  208|   6570666.274|     4.239| 249733.288|   Varies with device|\n",
      "+--------+--------------+-----+--------------+----------+-----------+---------------------+\n",
      "\n",
      "+--------------+--------------+-----+------------+----------+-----------+---------------------+\n",
      "|      Category|content rating|count|avg_installs|avg_rating|avg_reviews|version_mas_utilizada|\n",
      "+--------------+--------------+-----+------------+----------+-----------+---------------------+\n",
      "|HOUSE_AND_HOME|          Teen|    2|    255000.0|      4.65|     1391.5|              2.0.6.9|\n",
      "|HOUSE_AND_HOME|      Everyone|   86|  1955842.57|     4.185|  46204.674|   Varies with device|\n",
      "+--------------+--------------+-----+------------+----------+-----------+---------------------+\n",
      "\n",
      "+--------+--------------+-----+--------------+----------+-----------+---------------------+\n",
      "|Category|content rating|count|  avg_installs|avg_rating|avg_reviews|version_mas_utilizada|\n",
      "+--------+--------------+-----+--------------+----------+-----------+---------------------+\n",
      "|    GAME|          Teen|  331|1.1444146858E7|     4.273| 556496.915|   Varies with device|\n",
      "|    GAME|    Mature 17+|   74|1.4386786622E7|     4.262| 937666.703|   Varies with device|\n",
      "|    GAME|  Everyone 10+|  131|7.1983664504E7|     4.347|3871451.321|   Varies with device|\n",
      "|    GAME|      Everyone|  608|3.4216331488E7|     4.283|1356372.387|   Varies with device|\n",
      "+--------+--------------+-----+--------------+----------+-----------+---------------------+\n",
      "\n",
      "+---------+--------------+-----+------------+----------+-----------+---------------------+\n",
      "| Category|content rating|count|avg_installs|avg_rating|avg_reviews|version_mas_utilizada|\n",
      "+---------+--------------+-----+------------+----------+-----------+---------------------+\n",
      "|EDUCATION|          Teen|    1|   1000000.0|       4.8|   256079.0|                2.2.4|\n",
      "|EDUCATION|    Mature 17+|    3|  683333.333|     4.167|  12217.333|   Varies with device|\n",
      "|EDUCATION|  Everyone 10+|    8|   7750000.0|     4.488| 153753.875|                3.2.5|\n",
      "|EDUCATION|      Everyone|  144| 5600013.889|     4.385|   264396.0|   Varies with device|\n",
      "+---------+--------------+-----+------------+----------+-----------+---------------------+\n",
      "\n",
      "+------------+--------------+-----+-------------+----------+-----------+---------------------+\n",
      "|    Category|content rating|count| avg_installs|avg_rating|avg_reviews|version_mas_utilizada|\n",
      "+------------+--------------+-----+-------------+----------+-----------+---------------------+\n",
      "|PRODUCTIVITY|          Teen|    9|  1111347.222|      4.05|  47466.556|   Varies with device|\n",
      "|PRODUCTIVITY|    Mature 17+|    1|       1000.0|       4.6|       84.0|                2.3.9|\n",
      "|PRODUCTIVITY|  Everyone 10+|    1|       5000.0|       3.6|       49.0|                1.0.1|\n",
      "|PRODUCTIVITY|      Everyone|  413|3.430044369E7|     4.213| 275277.586|   Varies with device|\n",
      "+------------+--------------+-----+-------------+----------+-----------+---------------------+\n",
      "\n",
      "+--------+--------------+-----+--------------+----------+-----------+---------------------+\n",
      "|Category|content rating|count|  avg_installs|avg_rating|avg_reviews|version_mas_utilizada|\n",
      "+--------+--------------+-----+--------------+----------+-----------+---------------------+\n",
      "|   TOOLS|       Unrated|    1|       50000.0|       4.1|     1186.0|                  1.3|\n",
      "|   TOOLS|          Teen|    5|    1.200402E7|       4.5|   256684.4|                2.2.1|\n",
      "|   TOOLS|    Mature 17+|    2|        2550.0|       3.7|       21.5|                2.1.2|\n",
      "|   TOOLS|      Everyone|  835|1.3643948162E7|     4.045| 325629.213|   Varies with device|\n",
      "+--------+--------------+-----+--------------+----------+-----------+---------------------+\n",
      "\n",
      "+---------+--------------+-----+--------------+----------+-----------+---------------------+\n",
      "| Category|content rating|count|  avg_installs|avg_rating|avg_reviews|version_mas_utilizada|\n",
      "+---------+--------------+-----+--------------+----------+-----------+---------------------+\n",
      "|LIFESTYLE|          Teen|   23|    385992.217|     4.417|   5843.783|                3.8.0|\n",
      "|LIFESTYLE|    Mature 17+|    9|1.2512888889E7|     4.256| 438662.778|   Varies with device|\n",
      "|LIFESTYLE|  Everyone 10+|    5|     2040200.0|      3.84|    32505.6|           5.2.4(881)|\n",
      "|LIFESTYLE|      Everyone|  345|   1176662.951|     4.074|  25037.345|                    1|\n",
      "+---------+--------------+-----+--------------+----------+-----------+---------------------+\n",
      "\n",
      "+------------------+--------------+-----+---------------+----------+-----------+---------------------+\n",
      "|          Category|content rating|count|   avg_installs|avg_rating|avg_reviews|version_mas_utilizada|\n",
      "+------------------+--------------+-----+---------------+----------+-----------+---------------------+\n",
      "|NEWS_AND_MAGAZINES|          Teen|   34|1.21815003235E8|     4.216| 209873.118|   Varies with device|\n",
      "|NEWS_AND_MAGAZINES|    Mature 17+|   14|1.10251072143E8|     4.308|2621264.286|   Varies with device|\n",
      "|NEWS_AND_MAGAZINES|  Everyone 10+|   66|  2.581904697E7|      4.08| 124419.939|   Varies with device|\n",
      "|NEWS_AND_MAGAZINES|      Everyone|  169|     633346.391|      4.12|  13939.414|   Varies with device|\n",
      "+------------------+--------------+-----+---------------+----------+-----------+---------------------+\n",
      "\n",
      "+--------+--------------+-----+------------+----------+-----------+---------------------+\n",
      "|Category|content rating|count|avg_installs|avg_rating|avg_reviews|version_mas_utilizada|\n",
      "+--------+--------------+-----+------------+----------+-----------+---------------------+\n",
      "| MEDICAL|          Teen|    5|     12222.0|     4.533|      165.0|                  1.3|\n",
      "| MEDICAL|    Mature 17+|    7|   15114.286|     4.467|    446.571|                1.1.3|\n",
      "| MEDICAL|  Everyone 10+|    9|   20234.444|     4.387|    176.778|                1.8.3|\n",
      "| MEDICAL|      Everyone|  442|  119702.301|     4.176|    3575.64|                    1|\n",
      "+--------+--------------+-----+------------+----------+-----------+---------------------+\n",
      "\n",
      "+-------------+--------------+-----+--------------+----------+-----------+---------------------+\n",
      "|     Category|content rating|count|  avg_installs|avg_rating|avg_reviews|version_mas_utilizada|\n",
      "+-------------+--------------+-----+--------------+----------+-----------+---------------------+\n",
      "|COMMUNICATION|          Teen|   32|6.6706770313E7|     4.321|  2251970.0|   Varies with device|\n",
      "|COMMUNICATION|    Mature 17+|   10|   3.8011001E7|     4.311|  1144954.7|   Varies with device|\n",
      "|COMMUNICATION|      Everyone|  345|8.7340723452E7|     4.141|2121593.255|   Varies with device|\n",
      "+-------------+--------------+-----+--------------+----------+-----------+---------------------+\n",
      "\n",
      "+-------------------+--------------+-----+------------+----------+-----------+---------------------+\n",
      "|           Category|content rating|count|avg_installs|avg_rating|avg_reviews|version_mas_utilizada|\n",
      "+-------------------+--------------+-----+------------+----------+-----------+---------------------+\n",
      "|MAPS_AND_NAVIGATION|          Teen|    2|   2550000.0|       4.4|    29267.5|                3.5.1|\n",
      "|MAPS_AND_NAVIGATION|    Mature 17+|    1|     10000.0|       2.7|       89.0|             1.0.10.5|\n",
      "|MAPS_AND_NAVIGATION|  Everyone 10+|    1|       100.0|      NULL|        0.0|                    3|\n",
      "|MAPS_AND_NAVIGATION|      Everyone|  132| 5410392.348|     4.054| 231048.348|   Varies with device|\n",
      "+-------------------+--------------+-----+------------+----------+-----------+---------------------+\n",
      "\n",
      "+--------+--------------+-----+------------+----------+-----------+---------------------+\n",
      "|Category|content rating|count|avg_installs|avg_rating|avg_reviews|version_mas_utilizada|\n",
      "+--------+--------------+-----+------------+----------+-----------+---------------------+\n",
      "|  DATING|          Teen|   12|    169242.5|       3.6|    847.667|                    1|\n",
      "|  DATING|    Mature 17+|  201| 1294786.075|     3.976|  35872.174|                  8.2|\n",
      "|  DATING|      Everyone|   21|   96566.476|       4.1|   3371.381|                    1|\n",
      "+--------+--------------+-----+------------+----------+-----------+---------------------+\n",
      "\n",
      "+------------------+--------------+-----+------------+----------+-----------+---------------------+\n",
      "|          Category|content rating|count|avg_installs|avg_rating|avg_reviews|version_mas_utilizada|\n",
      "+------------------+--------------+-----+------------+----------+-----------+---------------------+\n",
      "|LIBRARIES_AND_DEMO|      Everyone|   85|  741128.353|     4.178|  12201.388|                2.3.2|\n",
      "+------------------+--------------+-----+------------+----------+-----------+---------------------+\n",
      "\n",
      "+--------+--------------+-----+------------+----------+-----------+---------------------+\n",
      "|Category|content rating|count|avg_installs|avg_rating|avg_reviews|version_mas_utilizada|\n",
      "+--------+--------------+-----+------------+----------+-----------+---------------------+\n",
      "|  BEAUTY|          Teen|    3|   83333.333|       4.0|   1731.667|                3.0.1|\n",
      "|  BEAUTY|    Mature 17+|    3|     40000.0|       4.5|    193.333|                    2|\n",
      "|  BEAUTY|  Everyone 10+|    2|     55000.0|      NULL|      108.5|                    8|\n",
      "|  BEAUTY|      Everyone|   45|  593712.222|     4.287|   8672.178|                    1|\n",
      "+--------+--------------+-----+------------+----------+-----------+---------------------+\n",
      "\n",
      "+--------+--------------+-----+--------------+----------+-----------+---------------------+\n",
      "|Category|content rating|count|  avg_installs|avg_rating|avg_reviews|version_mas_utilizada|\n",
      "+--------+--------------+-----+--------------+----------+-----------+---------------------+\n",
      "|  SOCIAL|          Teen|  125|9.3483696168E7|     4.302|4379743.704|   Varies with device|\n",
      "|  SOCIAL|    Mature 17+|   67|2.6039119403E7|     4.123| 898882.701|   Varies with device|\n",
      "|  SOCIAL|  Everyone 10+|    2|      505000.0|       4.1|    11460.5|   Varies with device|\n",
      "|  SOCIAL|      Everyone|  101|   6324503.772|     4.305| 133914.822|                    1|\n",
      "+--------+--------------+-----+--------------+----------+-----------+---------------------+\n",
      "\n",
      "+--------+--------------+-----+------------+----------+-----------+---------------------+\n",
      "|Category|content rating|count|avg_installs|avg_rating|avg_reviews|version_mas_utilizada|\n",
      "+--------+--------------+-----+------------+----------+-----------+---------------------+\n",
      "| FINANCE|          Teen|    5|    222400.0|     4.075|     8670.2|                    2|\n",
      "| FINANCE|      Everyone|  361| 2425309.512|     4.133|  48496.889|   Varies with device|\n",
      "+--------+--------------+-----+------------+----------+-----------+---------------------+\n",
      "\n",
      "+--------------+--------------+-----+--------------+----------+-----------+---------------------+\n",
      "|      Category|content rating|count|  avg_installs|avg_rating|avg_reviews|version_mas_utilizada|\n",
      "+--------------+--------------+-----+--------------+----------+-----------+---------------------+\n",
      "|ART_AND_DESIGN|          Teen|    3|2.0003333333E7|     4.467|    86942.0|   Varies with device|\n",
      "|ART_AND_DESIGN|  Everyone 10+|    1|      500000.0|       4.7|     7699.0|              2.2.6.2|\n",
      "|ART_AND_DESIGN|      Everyone|   61|   1046362.295|     4.347|  23703.525|                    1|\n",
      "+--------------+--------------+-----+--------------+----------+-----------+---------------------+\n",
      "\n"
     ]
    }
   ],
   "source": [
    "#Cambio de planes, no me gusta como quedan en varias carpetas...\n",
    "#y si las metemos todas en una sola?\n",
    "#Ademas, voy a añadir la media de reviews por app y la version mas utilizada\n",
    "\n",
    "for i in unicos:\n",
    "    filas = df.filter(df[\"category\"] == i)\n",
    "    versiones = df.groupBy(\"current ver\").count().orderBy(desc(\"count\"))\n",
    "\n",
    "    grouped_df = filas.groupBy(\"content rating\").count()\n",
    "\n",
    "    media_installs_rating = filas.groupBy(\"content rating\").agg(round(avg(\"installs\"), 3).alias(\"avg_installs\"), round(avg(\"Rating\"), 3).alias(\"avg_rating\"), round(avg(\"Reviews\"), 3).alias(\"avg_reviews\"))\n",
    "\n",
    "    most_popular_version = filas.groupBy(\"content rating\", \"current ver\").agg(count(\"*\").alias(\"frecuencia\"))\n",
    "    most_popular_version = most_popular_version.orderBy(\"content rating\", desc(\"frecuencia\"))\n",
    "    most_popular_version = most_popular_version.groupBy(\"content rating\").agg(first(\"current ver\").alias(\"version_mas_utilizada\"))\n",
    "\n",
    "\n",
    "    grouped_df = grouped_df.join(media_installs_rating, on=\"content rating\")\n",
    "    grouped_df = grouped_df.join(most_popular_version, on=\"content rating\")\n",
    "\n",
    "    grouped_df = grouped_df.withColumn(\"Category\", lit(i))\n",
    "    grouped_df = grouped_df.selectExpr(\"Category\", \"*\")\n",
    "    #aqui tenemos un problema, la columna \"Category\" aparece 2 veces, y yo la quiero solo a la izq.\n",
    "    #Cojo todas excepto la ultima y ya lo tenemos.\n",
    "    df_final = grouped_df.select(grouped_df.columns[:-1])\n",
    "    df_final.show()\n",
    "\n",
    "    df_final.write.option(\"mapreduce.fileoutputcommitter.marksuccessfuljobs\", \"false\").csv(f\"../data/processed/df_filtradas/{i}\", header=True, mode=\"overwrite\")\n",
    "\n",
    "    #Con esto miraremos la lista de archivos, el CSV estara el ultimo, le cambiamos el nombre a uno mas apropiado.\n",
    "    archivos = os.listdir(f\"../data/processed/df_filtradas/{i}\")\n",
    "\n",
    "    antes = os.path.join(f\"../data/processed/df_filtradas/{i}\", archivos[-1])\n",
    "    despues = os.path.join(f\"../data/processed/df_filtradas/{i}\", f\"{i}.csv\")\n",
    "\n",
    "    os.rename(antes, despues)\n",
    "\n",
    "    #Primero nos aseguramos que el directorio existe:\n",
    "\n",
    "    if not os.path.exists(\"../data/processed/datos_filtrados\"):\n",
    "        os.makedirs(\"../data/processed/datos_filtrados\")\n",
    "\n",
    "    #ahora, utilizaremos shutil para copiarla, asi tener los datos en ambos sitios, por si acaso.\n",
    "\n",
    "    shutil.copy(f\"../data/processed/df_filtradas/{i}/{i}.csv\",\"../data/processed/datos_filtrados/\")\n",
    "    "
   ]
  }
 ],
 "metadata": {
  "kernelspec": {
   "display_name": "Python 3",
   "language": "python",
   "name": "python3"
  },
  "language_info": {
   "codemirror_mode": {
    "name": "ipython",
    "version": 3
   },
   "file_extension": ".py",
   "mimetype": "text/x-python",
   "name": "python",
   "nbconvert_exporter": "python",
   "pygments_lexer": "ipython3",
   "version": "3.12.2"
  }
 },
 "nbformat": 4,
 "nbformat_minor": 2
}
